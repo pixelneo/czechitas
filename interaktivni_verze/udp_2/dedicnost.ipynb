{
 "cells": [
  {
   "cell_type": "markdown",
   "source": [
    "Třídy z lekce které budeme rozšiřovat:"
   ],
   "metadata": {
    "collapsed": false,
    "pycharm": {
     "name": "#%% md\n"
    }
   }
  },
  {
   "cell_type": "code",
   "execution_count": 4,
   "outputs": [],
   "source": [
    "class Zamestnanec:\n",
    "    def __init__(self, jmeno, pozice):\n",
    "        self.jmeno = jmeno\n",
    "        self.pozice = pozice\n",
    "        self.dovolena = 160\n",
    "\n",
    "    def cerpej_dovolenou(self, pocet_hodin):\n",
    "        if self.dovolena >= pocet_hodin:\n",
    "            self.dovolena -= pocet_hodin\n",
    "            return \"Užij si to.\"\n",
    "        else:\n",
    "            return f\"Máš nárok je na {self.dovolena} hodin.\"\n",
    "\n",
    "    def __str__(self):\n",
    "        return f\"Zam. {self.jmeno} a pracuje na poz. {self.pozice}\"\n",
    "\n",
    "\n",
    "class Manazer(Zamestnanec):\n",
    "    def __init__(self, jmeno, pozice, pocet_podrizenych):\n",
    "        super().__init__(jmeno, pozice)\n",
    "        self.pocet_podrizenych = pocet_podrizenych\n",
    "\n",
    "    def __str__(self):\n",
    "        return super().__str__() + f\" - Počet podřízených: {self.pocet_podrizenych}\""
   ],
   "metadata": {
    "collapsed": false,
    "pycharm": {
     "name": "#%%\n"
    }
   }
  },
  {
   "cell_type": "code",
   "execution_count": 5,
   "outputs": [],
   "source": [
    "class Balik:\n",
    "    def __init__(self, adresa, hmotnost):\n",
    "        self.adresa = adresa\n",
    "        self.hmotnost = hmotnost\n",
    "        self.dorucen = False\n",
    "\n",
    "    def dorucit(self):\n",
    "        self.dorucen = True\n",
    "\n",
    "    def __str__(self):\n",
    "        return f'Balik na adresu {self.adresa}, hmotnost {self.hmotnost}'\\\n",
    "               f' - {\"doručen\" if self.dorucen else \"nedoručen\"}'"
   ],
   "metadata": {
    "collapsed": false,
    "pycharm": {
     "name": "#%%\n"
    }
   }
  },
  {
   "cell_type": "markdown",
   "source": [
    "## 1 - částečný úvazek ○○♦♦♦\n",
    "\n",
    "Naše firma se rozhodla zaměstnávat i pracovníky na částečné úvazky, pro které bude vytvořena zvláštní třída. Vytvoř\n",
    "novou třídu `Brigadnik`, která bude dědit od třídy `Zamestnanec` a bude mít navíc atribut `uvazek`, který reprezentuje\n",
    "velikost úvazku oproti plnému. Přidej informaci o úvazku k výpisu informací do funkce `__str__()`."
   ],
   "metadata": {
    "collapsed": false,
    "pycharm": {
     "name": "#%% md\n"
    }
   }
  },
  {
   "cell_type": "markdown",
   "source": [
    "### Řešení"
   ],
   "metadata": {
    "collapsed": false,
    "pycharm": {
     "name": "#%% md\n"
    }
   }
  },
  {
   "cell_type": "code",
   "execution_count": 6,
   "outputs": [],
   "source": [
    "class Brigadnik(Zamestnanec):\n",
    "    def __init__(self, jmeno, pozice, uvazek):\n",
    "        super().__init__(jmeno, pozice)\n",
    "        self.uvazek = uvazek\n",
    "\n",
    "    def __str__(self):\n",
    "        return super().__str__() + f' velikost uvazku: {self.uvazek}'"
   ],
   "metadata": {
    "collapsed": false,
    "pycharm": {
     "name": "#%%\n"
    }
   }
  },
  {
   "cell_type": "markdown",
   "source": [
    "## 2 - Balík ○○♦♦♦\n",
    "\n",
    "Pokračuj ve své práci pro zásilkovou společnost.\n",
    "Společnost nově doručuje i cenné balíky, které mají zadanou určitou hodnotu. Vytvoř třídu `CennyBalik`, která dědí od\n",
    "třídy `Balik`. `CennyBalik` má navíc atribut `hodnota`, ostatní atributy dědí od třídy `Balik`. Atribut `hodnota` nastav\n",
    "pomocí funkce `__init__`. Ostatní parametry předej funkci `__init__` třídy `Balik`. Vytvoř si alespoň jeden objekt a\n",
    "zkus volání jeho funkcí."
   ],
   "metadata": {
    "collapsed": false,
    "pycharm": {
     "name": "#%% md\n"
    }
   }
  },
  {
   "cell_type": "markdown",
   "source": [
    "### Řešení"
   ],
   "metadata": {
    "collapsed": false,
    "pycharm": {
     "name": "#%% md\n"
    }
   }
  },
  {
   "cell_type": "code",
   "execution_count": 7,
   "outputs": [],
   "source": [
    "class CennyBalik(Balik):\n",
    "    def __init__(self, adresa, hmotnost, hodnota):\n",
    "        super().__init__(adresa, hmotnost)\n",
    "        self.hodnota = hodnota\n",
    "\n",
    "    def __str__(self):\n",
    "        return super().__str__() + f' - hodnota: {self.hodnota}'"
   ],
   "metadata": {
    "collapsed": false,
    "pycharm": {
     "name": "#%%\n"
    }
   }
  },
  {
   "cell_type": "code",
   "execution_count": 8,
   "outputs": [
    {
     "name": "stdout",
     "output_type": "stream",
     "text": [
      "Balik na adresu Pepa - Praha 10, hmotnost 10 - doručen - hodnota: 200\n"
     ]
    }
   ],
   "source": [
    "b1 = CennyBalik('Pepa - Praha 10', 10, 200)\n",
    "b1.dorucit()\n",
    "print(b1)"
   ],
   "metadata": {
    "collapsed": false,
    "pycharm": {
     "name": "#%%\n"
    }
   }
  },
  {
   "cell_type": "markdown",
   "source": [
    "## 3 - Řidič ○♦♦♦♦\n",
    "\n",
    "Pokračuj ve své práci pro zásilkovou společnost. Společnost nyní eviduje jednotlivé řidiče a eviduje balíky, které má\n",
    "každý řidič doručit.\n",
    "\n",
    "- Vytvoř třídu `Ridic`, která má dva atributy: `jmeno` (jméno řidiče) a `seznam_baliku` (seznam balíků k doručení, na\n",
    "  začátku je prázdný).\n",
    "- Přidej třídě metodu `prirad_balik`, která bude mít jeden parametr - `balik` (balík k doručení, může se jednat i o\n",
    "  cenný balík). Funkce nejprve zkontroluje, zda balík již nebyl doručen. Pokud ano, vypíše funkce text: \"Nelze přiřadit,\n",
    "  balík již byl doručen.\" Pokud balík ještě nebyl doručen, je přidán do seznamu balíků `seznam_baliku` (použij\n",
    "  funkci `append`).\n",
    "- U řidiče chceme sledovat, kolik by měl ještě doručit balíků. Napiš funkci `zbyva_baliku`, která vrátí počet balíků,\n",
    "  které má řidič přiřazené a ještě je nedoručil."
   ],
   "metadata": {
    "collapsed": false,
    "pycharm": {
     "name": "#%% md\n"
    }
   }
  },
  {
   "cell_type": "markdown",
   "source": [
    "### Řešení"
   ],
   "metadata": {
    "collapsed": false,
    "pycharm": {
     "name": "#%% md\n"
    }
   }
  },
  {
   "cell_type": "code",
   "execution_count": 9,
   "outputs": [],
   "source": [
    "class Ridic:\n",
    "    def __init__(self, jmeno, seznam_baliku=None):\n",
    "        self.jmeno = jmeno\n",
    "        # osetruje priprad \"mutable default argument\"\n",
    "        self.seznam_baliku = seznam_baliku or []\n",
    "\n",
    "    def prirad_balik(self, balik):\n",
    "        if balik.dorucen:\n",
    "            print('Nelze přiřadit, balík již byl doručen.')\n",
    "        else:\n",
    "            self.seznam_baliku.append(balik)\n",
    "\n",
    "    def zbyva_baliku(self):\n",
    "        \"\"\"Vrať počet balíků, které ejště nejsou doručnené.\n",
    "\n",
    "        Výpočet využívá toho, že bool hodnoty True a False v proměnné balik.dorucen\n",
    "         se v metodě sum budou chovat jako 1 a 0.\n",
    "        \"\"\"\n",
    "        return sum(not balik.dorucen for balik in self.seznam_baliku)"
   ],
   "metadata": {
    "collapsed": false,
    "pycharm": {
     "name": "#%%\n"
    }
   }
  },
  {
   "cell_type": "code",
   "execution_count": 10,
   "outputs": [
    {
     "name": "stdout",
     "output_type": "stream",
     "text": [
      "Nelze přiřadit, balík již byl doručen.\n",
      "Zbývá doručit 2 balíků.\n"
     ]
    }
   ],
   "source": [
    "b1 = CennyBalik('Pepa - Praha 10', 10, 200)\n",
    "b2 = CennyBalik('Anna - Praha 1', 12, 50)\n",
    "b3 = Balik('Josef - Plzeň', 5)\n",
    "b4 = Balik('Tereza - Olomouc', 7)\n",
    "\n",
    "b1.dorucit()\n",
    "b3.dorucit()\n",
    "\n",
    "r = Ridic('Karel', seznam_baliku=[b1, b2])\n",
    "r.prirad_balik(b3)  # nepůjde. již byl doručen\n",
    "r.prirad_balik(b4)\n",
    "\n",
    "print(f'Zbývá doručit {r.zbyva_baliku()} balíků.')"
   ],
   "metadata": {
    "collapsed": false,
    "pycharm": {
     "name": "#%%\n"
    }
   }
  }
 ],
 "metadata": {
  "kernelspec": {
   "display_name": "Python 3",
   "language": "python",
   "name": "python3"
  },
  "language_info": {
   "codemirror_mode": {
    "name": "ipython",
    "version": 2
   },
   "file_extension": ".py",
   "mimetype": "text/x-python",
   "name": "python",
   "nbconvert_exporter": "python",
   "pygments_lexer": "ipython2",
   "version": "2.7.6"
  }
 },
 "nbformat": 4,
 "nbformat_minor": 0
}