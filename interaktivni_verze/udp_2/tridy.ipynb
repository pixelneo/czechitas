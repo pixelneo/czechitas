{
 "cells": [
  {
   "cell_type": "markdown",
   "source": [
    "## 1 - Balík ○○♦♦♦\n",
    "\n",
    "Uvažuj, že navrhuješ software pro zásilkovou společnost.\n",
    "\n",
    "- Vytvoř třídu `Balik`, která bude mít tři atributy - `adresa`, `hmotnost` a `doruceno`. První dva atributy nastav\n",
    "  pomocí parametrů funkce `__init__`. Parametr `doruceno` nastav na začátku jako `False`.\n",
    "- Připoj ke třídě funkci `deliver`, která změní hodnotu parametru `doruceno` na `True`.\n",
    "- Přidej metodu `__str__()`, která vypíše `adresu`, `hmotnost` a informaci o tom, zda byl balík již doručen.\n",
    "- Zkus si vytvořit nějaké objekty ze třídy Balik a ověř, že vše funguje."
   ],
   "metadata": {
    "collapsed": false,
    "pycharm": {
     "name": "#%% md\n"
    }
   }
  },
  {
   "cell_type": "markdown",
   "source": [
    "### Řešení"
   ],
   "metadata": {
    "collapsed": false,
    "pycharm": {
     "name": "#%% md\n"
    }
   }
  },
  {
   "cell_type": "code",
   "execution_count": 1,
   "outputs": [],
   "source": [
    "class Balik:\n",
    "    def __init__(self, adresa, hmotnost):\n",
    "        self.adresa = adresa\n",
    "        self.hmotnost = hmotnost\n",
    "        self.dorucen = False\n",
    "\n",
    "    def dorucit(self):\n",
    "        self.dorucen = True\n",
    "\n",
    "    def __str__(self):\n",
    "        return f'Balik na adresu {self.adresa}, hmotnost {self.hmotnost}' \\\n",
    "               f' - {\"doručen\" if self.dorucen else \"nedoručen\"}'"
   ],
   "metadata": {
    "collapsed": false,
    "pycharm": {
     "name": "#%%\n"
    }
   }
  },
  {
   "cell_type": "code",
   "execution_count": 2,
   "outputs": [
    {
     "name": "stdout",
     "output_type": "stream",
     "text": [
      "Balik na adresu Petr - Praha 10, hmotnost 10 - nedoručen\n"
     ]
    }
   ],
   "source": [
    "b1 = Balik('Petr - Praha 10', 10)\n",
    "print(b1)"
   ],
   "metadata": {
    "collapsed": false,
    "pycharm": {
     "name": "#%%\n"
    }
   }
  },
  {
   "cell_type": "code",
   "execution_count": 3,
   "outputs": [
    {
     "name": "stdout",
     "output_type": "stream",
     "text": [
      "Balik na adresu Andrea - Plzeň, hmotnost 20 - doručen\n"
     ]
    }
   ],
   "source": [
    "b2 = Balik('Andrea - Plzeň', 20)\n",
    "b2.dorucit()\n",
    "print(b2)"
   ],
   "metadata": {
    "collapsed": false,
    "pycharm": {
     "name": "#%%\n"
    }
   }
  },
  {
   "cell_type": "markdown",
   "source": [
    "## 2 - Kniha ○○○♦♦\n",
    "\n",
    "Zkus pro našeho nakladatele vytvořit software s využitím tříd a objektů.\n",
    "Vytvoř tedy třídu `Kniha`, která reprezentuje knihu. Každá kniha bude mít atributy `nazev`, `pocet_stran` a `cena`.\n",
    "Hodnoty nastav ve funkci `__init__`.\n",
    "\n",
    "- Přidej knize funkci `__str()__`, která vypíše informace o knize v nějakém pěkném formátu.\n",
    "- Občas se stane, že se kniha moc neprodává a knihkupec se snaží nalákat kupující slevou. Přidej metodu `sleva()`, která\n",
    "  bude mít jeden parametr - velikost slevy v procentech. Funkce sníží cenu knihy o dané procento."
   ],
   "metadata": {
    "collapsed": false,
    "pycharm": {
     "name": "#%% md\n"
    }
   }
  },
  {
   "cell_type": "markdown",
   "source": [
    "### Řešení"
   ],
   "metadata": {
    "collapsed": false,
    "pycharm": {
     "name": "#%% md\n"
    }
   }
  },
  {
   "cell_type": "code",
   "execution_count": 4,
   "outputs": [],
   "source": [
    "class Kniha:\n",
    "    def __init__(self, nazev, pocet_stran, cena):\n",
    "        self.nazev = nazev\n",
    "        self.pocet_stran = pocet_stran\n",
    "        self.cena = cena\n",
    "\n",
    "    def sleva(self, procent):\n",
    "        self.cena *= 1 - (procent / 100)\n",
    "\n",
    "    def __str__(self):\n",
    "        return f'{self.nazev}, {self.pocet_stran} stran - {self.cena} Kč'"
   ],
   "metadata": {
    "collapsed": false,
    "pycharm": {
     "name": "#%%\n"
    }
   }
  },
  {
   "cell_type": "code",
   "execution_count": 6,
   "outputs": [
    {
     "name": "stdout",
     "output_type": "stream",
     "text": [
      "Motýlek, 300 stran - 100 Kč\n"
     ]
    }
   ],
   "source": [
    "k = Kniha('Motýlek', 300, 100)\n",
    "print(k)"
   ],
   "metadata": {
    "collapsed": false,
    "pycharm": {
     "name": "#%%\n"
    }
   }
  },
  {
   "cell_type": "code",
   "execution_count": 7,
   "outputs": [
    {
     "name": "stdout",
     "output_type": "stream",
     "text": [
      "Motýlek, 300 stran - 80.0 Kč\n"
     ]
    }
   ],
   "source": [
    "k.sleva(20)\n",
    "print(k)"
   ],
   "metadata": {
    "collapsed": false,
    "pycharm": {
     "name": "#%%\n"
    }
   }
  },
  {
   "cell_type": "markdown",
   "source": [
    "## 3 - Zkušební doba\n",
    "\n",
    "U zaměstnanců budeme nově evidovat, jestli jsou ve zkušební době.\n",
    "\n",
    "*`Zamestnanec` je třída vytvořená v lekci*\n",
    "\n",
    "```python\n",
    "class Zamestnanec:\n",
    "    def __init__(self, jmeno, pozice):\n",
    "        self.jmeno = jmeno\n",
    "        self.pozice = pozice\n",
    "\n",
    "    def __str__(self):\n",
    "        return f\"{self.jmeno} pracuje na pozici {self.pozice}.\"\n",
    "```\n",
    "\n",
    "- Rozšiř metodu `__init__` třídy `Zamestnanec` o parametr `zkusebni_doba`, který bude typu `bool`. Tuto hodnotu ulož jako atribut třídy `Zamestnanec`.\n",
    "- Uprav metodu `__str__()`. Pokud je zaměstnanec ve zkušební době, přidej k jeho/jejímu výpisu text \"Je ve zkušební době.\""
   ],
   "metadata": {
    "collapsed": false,
    "pycharm": {
     "name": "#%% md\n"
    }
   }
  },
  {
   "cell_type": "markdown",
   "source": [
    "### Řešení"
   ],
   "metadata": {
    "collapsed": false,
    "pycharm": {
     "name": "#%% md\n"
    }
   }
  },
  {
   "cell_type": "code",
   "execution_count": 12,
   "outputs": [],
   "source": [
    "class Zamestnanec:\n",
    "    def __init__(self, jmeno, pozice, zkusebni_doba):\n",
    "        self.jmeno = jmeno\n",
    "        self.pozice = pozice\n",
    "        self.zkusebni_doba = zkusebni_doba\n",
    "\n",
    "    def __str__(self):\n",
    "        return f\"{self.jmeno} pracuje na pozici {self.pozice}.\" \\\n",
    "               f\"{' Je ve zkušební době.' if self.zkusebni_doba else ''}\""
   ],
   "metadata": {
    "collapsed": false,
    "pycharm": {
     "name": "#%%\n"
    }
   }
  },
  {
   "cell_type": "code",
   "execution_count": 13,
   "outputs": [
    {
     "name": "stdout",
     "output_type": "stream",
     "text": [
      "Karel pracuje na pozici dělník.\n"
     ]
    }
   ],
   "source": [
    "z1 = Zamestnanec('Karel', 'dělník', zkusebni_doba=False)\n",
    "print(z1)"
   ],
   "metadata": {
    "collapsed": false,
    "pycharm": {
     "name": "#%%\n"
    }
   }
  },
  {
   "cell_type": "code",
   "execution_count": 14,
   "outputs": [
    {
     "name": "stdout",
     "output_type": "stream",
     "text": [
      "Josef pracuje na pozici brigádník. Je ve zkušební době.\n"
     ]
    }
   ],
   "source": [
    "z2 = Zamestnanec('Josef', 'brigádník', zkusebni_doba=True)\n",
    "print(z2)"
   ],
   "metadata": {
    "collapsed": false,
    "pycharm": {
     "name": "#%%\n"
    }
   }
  }
 ],
 "metadata": {
  "kernelspec": {
   "display_name": "Python 3",
   "language": "python",
   "name": "python3"
  },
  "language_info": {
   "codemirror_mode": {
    "name": "ipython",
    "version": 2
   },
   "file_extension": ".py",
   "mimetype": "text/x-python",
   "name": "python",
   "nbconvert_exporter": "python",
   "pygments_lexer": "ipython2",
   "version": "2.7.6"
  }
 },
 "nbformat": 4,
 "nbformat_minor": 0
}