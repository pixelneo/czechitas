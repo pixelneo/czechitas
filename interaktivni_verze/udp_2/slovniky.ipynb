{
 "cells": [
  {
   "cell_type": "markdown",
   "source": [
    "## 1 - Vysvědčení ○○○○♦\n",
    "\n",
    "Vytvoř slovník, který reprezentuje vysvědčení.\n",
    "Klíč slovníku bude název předmětu a hodnota známka z daného předmětu.\n",
    "Pro zjednodušení vlož do slovníku pouze tři předměty (například český jazyk, matematiku a dějepis).\n",
    "Vypiš obsah slovníku pomocí funkce `print()`."
   ],
   "metadata": {
    "collapsed": false,
    "pycharm": {
     "name": "#%% md\n"
    }
   }
  },
  {
   "cell_type": "markdown",
   "source": [
    "### Řešení"
   ],
   "metadata": {
    "collapsed": false,
    "pycharm": {
     "name": "#%% md\n"
    }
   }
  },
  {
   "cell_type": "code",
   "execution_count": 39,
   "outputs": [],
   "source": [
    "vysvedceni = {\n",
    "    'matematika': 1,\n",
    "    'cestina'   : 3,\n",
    "    'dejepis'   : 2,\n",
    "    }"
   ],
   "metadata": {
    "collapsed": false,
    "pycharm": {
     "name": "#%%\n"
    }
   }
  },
  {
   "cell_type": "markdown",
   "source": [
    "## 2 - Detektivky ○○○♦♦\n",
    "\n",
    "Vydavatel detektivek si eviduje prodané kusy u jednotlivých knih.\n",
    "V následujícím slovníku najdeš tři knihy a u každé z nich je počet prodaných kusů."
   ],
   "metadata": {
    "collapsed": false,
    "pycharm": {
     "name": "#%% md\n"
    }
   },
   "outputs": []
  },
  {
   "cell_type": "code",
   "execution_count": 40,
   "outputs": [],
   "source": [
    "prodano = {\n",
    "    'Zkus mě chytit'     : 4165,\n",
    "    'Vrah zavolá v deset': 5681,\n",
    "    'Zločinný steh'      : 2565,\n",
    "    }"
   ],
   "metadata": {
    "collapsed": false,
    "pycharm": {
     "name": "#%%\n"
    }
   }
  },
  {
   "cell_type": "markdown",
   "source": [
    "- Zkopíruj si slovník do svého programu.\n",
    "- Přidej do slovníku nově vydanou detektivku *Noc, která mě zabila*, která zatím nebyla uvedena na trh, je tedy prodáno 0 kusů.\n",
    "- U knihy *Vrah zavolá v deset* zvyš počet prodaných kusů o 100."
   ],
   "metadata": {
    "collapsed": false,
    "pycharm": {
     "name": "#%% md\n"
    }
   }
  },
  {
   "cell_type": "markdown",
   "source": [
    "### Řešení"
   ],
   "metadata": {
    "collapsed": false,
    "pycharm": {
     "name": "#%% md\n"
    }
   }
  },
  {
   "cell_type": "code",
   "execution_count": 41,
   "outputs": [],
   "source": [
    "prodano['Noc, která mě zabila'] = 0"
   ],
   "metadata": {
    "collapsed": false,
    "pycharm": {
     "name": "#%%\n"
    }
   }
  },
  {
   "cell_type": "code",
   "execution_count": 42,
   "outputs": [],
   "source": [
    "# úprava počtu s pomocnou porměnnou 'pocet_kusu' a 'novy_pocet_kusu'\n",
    "pocet_kusu = prodano['Vrah zavolá v deset']\n",
    "novy_pocet_kusu = pocet_kusu + 100\n",
    "prodano['Vrah zavolá v deset'] = novy_pocet_kusu"
   ],
   "metadata": {
    "collapsed": false,
    "pycharm": {
     "name": "#%%\n"
    }
   }
  },
  {
   "cell_type": "code",
   "execution_count": 43,
   "outputs": [],
   "source": [
    "# úprava počtu napřímo pomocí operátorů += -= *= /=\n",
    "prodano['Vrah zavolá v deset'] += 100"
   ],
   "metadata": {
    "collapsed": false,
    "pycharm": {
     "name": "#%%\n"
    }
   }
  },
  {
   "cell_type": "markdown",
   "source": [
    "*poznámka: hodnota u 'Vrah zavolá v deset bude teď větší o 200 oproti v zadání, protože jsme ji zvýšili o 100 dvakrát.*"
   ],
   "metadata": {
    "collapsed": false,
    "pycharm": {
     "name": "#%% md\n"
    }
   }
  },
  {
   "cell_type": "code",
   "execution_count": 44,
   "outputs": [
    {
     "data": {
      "text/plain": "{'Zkus mě chytit': 4165,\n 'Vrah zavolá v deset': 5881,\n 'Zločinný steh': 2565,\n 'Noc, která mě zabila': 0}"
     },
     "execution_count": 44,
     "metadata": {},
     "output_type": "execute_result"
    }
   ],
   "source": [
    "prodano"
   ],
   "metadata": {
    "collapsed": false,
    "pycharm": {
     "name": "#%%\n"
    }
   }
  },
  {
   "cell_type": "markdown",
   "source": [
    "## 3 - Tombola ○○♦♦♦\n",
    "\n",
    "V následujícím slovníku jsou uložena čísla lístků tomboly a příslušné výhry."
   ],
   "metadata": {
    "collapsed": false,
    "pycharm": {
     "name": "#%% md\n"
    }
   }
  },
  {
   "cell_type": "code",
   "execution_count": 45,
   "outputs": [],
   "source": [
    "tombola = {\n",
    "    7 : 'Láhev kvalitního vína Château Headache',\n",
    "    15: 'Pytel brambor z místního družstva',\n",
    "    23: 'Čokoládový dort',\n",
    "    47: 'Kniha o historii města',\n",
    "    55: 'Šiška salámu',\n",
    "    67: 'Vyhlídkový let balónem',\n",
    "    79: 'Moderní televizor',\n",
    "    91: 'Roční předplatné městského zpravodaje',\n",
    "    93: 'Společenská hra Sázky a dostihy',\n",
    "    }"
   ],
   "metadata": {
    "collapsed": false,
    "pycharm": {
     "name": "#%%\n"
    }
   }
  },
  {
   "cell_type": "markdown",
   "source": [
    "- Napiš program, který se nejprve zeptá uživatele na číslo jeho lístku.\n",
    "Vstup uživatele si převeď na int!\n",
    "- Zkontroluj, zda je číslo lístku ve slovníku. Pokud ne, vypiš text *Bohužel nevyhráváš nic.*\n",
    "Pokud číslo ve slovníku je, vypiš uživateli, co vyhrál.\n",
    "- Odeber výhru pro daný lístek ze slovníku, abychom tam evidovali pouze nevydané ceny."
   ],
   "metadata": {
    "collapsed": false,
    "pycharm": {
     "name": "#%% md\n"
    }
   }
  },
  {
   "cell_type": "markdown",
   "source": [
    "### Řešení"
   ],
   "metadata": {
    "collapsed": false,
    "pycharm": {
     "name": "#%% md\n"
    }
   }
  },
  {
   "cell_type": "code",
   "execution_count": 46,
   "outputs": [
    {
     "name": "stdout",
     "output_type": "stream",
     "text": [
      "Vyhrál jsi: Šiška salámu\n"
     ]
    }
   ],
   "source": [
    "cislo_uzivatele = int(input('Zadej sve cislo listku: '))\n",
    "\n",
    "if cislo_uzivatele in tombola:\n",
    "    vyhra = tombola[cislo_uzivatele]\n",
    "else:\n",
    "    vyhra = 'Bohužel nevyhráváš nic.'\n",
    "\n",
    "print(f'Vyhrál jsi: {vyhra}')\n",
    "\n",
    "del tombola[cislo_uzivatele]"
   ],
   "metadata": {
    "collapsed": false,
    "pycharm": {
     "name": "#%%\n"
    }
   }
  },
  {
   "cell_type": "markdown",
   "source": [
    "Existuje ještě funkce `get`, kterí nám dá hodnotu ze slovníku, pokud exituje, nebo nějakou zástupnou hodnotu."
   ],
   "metadata": {
    "collapsed": false,
    "pycharm": {
     "name": "#%% md\n"
    }
   }
  },
  {
   "cell_type": "code",
   "execution_count": 47,
   "outputs": [
    {
     "data": {
      "text/plain": "'Láhev kvalitního vína Château Headache'"
     },
     "execution_count": 47,
     "metadata": {},
     "output_type": "execute_result"
    }
   ],
   "source": [
    "tombola.get(7, 'Bohužel nevyhráváš nic.')"
   ],
   "metadata": {
    "collapsed": false,
    "pycharm": {
     "name": "#%%\n"
    }
   }
  },
  {
   "cell_type": "code",
   "execution_count": 48,
   "outputs": [
    {
     "data": {
      "text/plain": "'Bohužel nevyhráváš nic.'"
     },
     "execution_count": 48,
     "metadata": {},
     "output_type": "execute_result"
    }
   ],
   "source": [
    "tombola.get(1000, 'Bohužel nevyhráváš nic.')"
   ],
   "metadata": {
    "collapsed": false,
    "pycharm": {
     "name": "#%%\n"
    }
   }
  },
  {
   "cell_type": "markdown",
   "source": [
    "# Bonusy"
   ],
   "metadata": {
    "collapsed": false,
    "pycharm": {
     "name": "#%% md\n"
    }
   }
  },
  {
   "cell_type": "markdown",
   "source": [
    "## 4 - Paranoidní večírek ○♦♦♦♦\n",
    "\n",
    "Pořadatel našeho večírku se stává stále více paranoidním a nyní rozhodl, že každý z hostů bude mít speciální heslo,\n",
    "které je platné jen pro něj. Seznam hostů a jejich hesel je níže.\n",
    "Napiš program, který nejprve zkontroluje, zda je host na seznamu, a pokud tam je,zeptá se ho na heslo a zkontroluje jeho\n",
    "správnost.\n",
    "Hostu na seznamu, který zadá správné heslo, vypíše program text: \"Smíš vstoupit.\"\n"
   ],
   "metadata": {
    "collapsed": false,
    "pycharm": {
     "name": "#%% md\n"
    }
   }
  },
  {
   "cell_type": "markdown",
   "source": [
    "### Řešení"
   ],
   "metadata": {
    "collapsed": false,
    "pycharm": {
     "name": "#%% md\n"
    }
   }
  },
  {
   "cell_type": "code",
   "execution_count": 49,
   "outputs": [
    {
     "name": "stdout",
     "output_type": "stream",
     "text": [
      "Nesmíš projít.\n"
     ]
    }
   ],
   "source": [
    "hesla = {\n",
    "  'Jiří': 'tajne-heslo',\n",
    "  'Natálie': 'jeste-tajnejsi-heslo',\n",
    "  'Klára': 'nejtajnejsi-heslo',\n",
    "  }\n",
    "\n",
    "jmeno_hosta = input('Zadej jmeno: ')\n",
    "vstup = 'Nesmíš projít.'\n",
    "\n",
    "if jmeno_hosta in hesla:\n",
    "  heslo = input('Zadej heslo: ')\n",
    "  if heslo == hesla[jmeno_hosta]:\n",
    "    vstup = 'Smíš vstoupit.'\n",
    "\n",
    "print(vstup)"
   ],
   "metadata": {
    "collapsed": false,
    "pycharm": {
     "name": "#%%\n"
    }
   }
  }
 ],
 "metadata": {
  "kernelspec": {
   "display_name": "Python 3",
   "language": "python",
   "name": "python3"
  },
  "language_info": {
   "codemirror_mode": {
    "name": "ipython",
    "version": 2
   },
   "file_extension": ".py",
   "mimetype": "text/x-python",
   "name": "python",
   "nbconvert_exporter": "python",
   "pygments_lexer": "ipython2",
   "version": "2.7.6"
  }
 },
 "nbformat": 4,
 "nbformat_minor": 0
}