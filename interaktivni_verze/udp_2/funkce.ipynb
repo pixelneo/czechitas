{
 "cells": [
  {
   "cell_type": "markdown",
   "source": [
    "## 1 - Násobení ○○○♦♦\n",
    "\n",
    "Napiš funkci `vynasob`, která bude mít dva číselné parametry. Funkce oba parametry vynásobí a vrátí výsledek."
   ],
   "metadata": {
    "collapsed": false,
    "pycharm": {
     "name": "#%% md\n"
    }
   }
  },
  {
   "cell_type": "markdown",
   "source": [
    "### Řešení"
   ],
   "metadata": {
    "collapsed": false,
    "pycharm": {
     "name": "#%% md\n"
    }
   }
  },
  {
   "cell_type": "code",
   "execution_count": null,
   "outputs": [],
   "source": [
    "def vynasob(a, b):\n",
    "    return a * b"
   ],
   "metadata": {
    "collapsed": false,
    "pycharm": {
     "name": "#%%\n"
    }
   }
  },
  {
   "cell_type": "code",
   "execution_count": null,
   "outputs": [],
   "source": [
    "vysledek = vynasob(5, 2)\n",
    "print(f'5 * 2 = {vysledek}')"
   ],
   "metadata": {
    "collapsed": false,
    "pycharm": {
     "name": "#%%\n"
    }
   }
  },
  {
   "cell_type": "markdown",
   "source": [
    "## 2 - Hotel ○○○♦♦\n",
    "\n",
    "Napiš funkci `celkova_cena`, která vypočte cenu noci v hotelu. Funkce bude mít dva parametry - `pocet_lidi`\n",
    "a `byla_snidane`.\n",
    "Cena za noc za osobu je `850 Kč` a cena za snídani za osobu je `125 Kč`.\n",
    "Funkce vrátí výslednou cenu. Parametr `byla_snidane` je nepovinný a výchozí hodnota je `False`.\n",
    "\n",
    "Funkci vyzkoušej se zadáním dvou i jedné hodnoty, např. `celkova_cena(3)`, `celkova_cena(2, True)`."
   ],
   "metadata": {
    "collapsed": false,
    "pycharm": {
     "name": "#%% md\n"
    }
   }
  },
  {
   "cell_type": "markdown",
   "source": [
    "### Řešení"
   ],
   "metadata": {
    "collapsed": false,
    "pycharm": {
     "name": "#%% md\n"
    }
   }
  },
  {
   "cell_type": "code",
   "execution_count": 2,
   "outputs": [],
   "source": [
    "def celkova_cena(pocet_lidi, byla_snidane=False):\n",
    "    cena_za_noc = 850\n",
    "    cena_za_snidani = 125\n",
    "\n",
    "    celkem = cena_za_noc * pocet_lidi\n",
    "\n",
    "    if byla_snidane:\n",
    "        celkem += cena_za_snidani * pocet_lidi\n",
    "\n",
    "    return celkem"
   ],
   "metadata": {
    "collapsed": false,
    "pycharm": {
     "name": "#%%\n"
    }
   }
  },
  {
   "cell_type": "code",
   "execution_count": 3,
   "outputs": [
    {
     "name": "stdout",
     "output_type": "stream",
     "text": [
      "Cena za tři lidi: 2550\n",
      "Cena za dva lidi se snidani: 1950\n"
     ]
    }
   ],
   "source": [
    "print(f'Cena za tři lidi: {celkova_cena(3)}')\n",
    "print(f'Cena za dva lidi se snidani: {celkova_cena(2, True)}')"
   ],
   "metadata": {
    "collapsed": false,
    "pycharm": {
     "name": "#%%\n"
    }
   }
  },
  {
   "cell_type": "markdown",
   "source": [
    "# Bonusy"
   ],
   "metadata": {
    "collapsed": false,
    "pycharm": {
     "name": "#%% md\n"
    }
   }
  },
  {
   "cell_type": "markdown",
   "source": [
    "## 3 - Měsíc narození ○○♦♦♦\n",
    "\n",
    "Napiš funkci `mesic_narozeni`, která bude mít jeden parametr - `rodne_cislo`.\n",
    "Funkce ze zadaného rodného čísla určí měsíc narození, které vrátí jako výstup. Nezapomeň, že pro ženy je k měsíci\n",
    "připočtena hodnota 50.\n",
    "\n",
    "Příklad:\n",
    "\n",
    "- Pro hodnotu 9207054439 vrátí 7.\n",
    "- Pro hodnotu 9555125899 vrátí 5."
   ],
   "metadata": {
    "collapsed": false,
    "pycharm": {
     "name": "#%% md\n"
    }
   }
  },
  {
   "cell_type": "markdown",
   "source": [
    "### Řešení"
   ],
   "metadata": {
    "collapsed": false,
    "pycharm": {
     "name": "#%% md\n"
    }
   }
  },
  {
   "cell_type": "code",
   "execution_count": null,
   "outputs": [],
   "source": [
    "def mesic_narozeni(rodne_cislo):\n",
    "    cislo_mesice = int(str(rodne_cislo)[2:4])\n",
    "    if cislo_mesice <= 12:\n",
    "        return cislo_mesice\n",
    "    else:\n",
    "        return cislo_mesice - 50"
   ],
   "metadata": {
    "collapsed": false,
    "pycharm": {
     "name": "#%%\n"
    }
   }
  },
  {
   "cell_type": "code",
   "execution_count": null,
   "outputs": [],
   "source": [
    "print(f'9207054439 -> {mesic_narozeni(9207054439)}')\n",
    "print(f'9555125899 -> {mesic_narozeni(9555125899)}')"
   ],
   "metadata": {
    "collapsed": false,
    "pycharm": {
     "name": "#%%\n"
    }
   }
  },
  {
   "cell_type": "markdown",
   "source": [
    "## 4 - Ruleta ♦♦♦♦♦\n",
    "\n",
    "Napiš funkci, která bude jednoduchou simulací rulety. Budeme uvažovat pouze možnost sázení na řady. Uživatel si může\n",
    "vybrat jednu ze tří řad:\n",
    "\n",
    "- první řada (hodnoty 1, 4, 7 atd.),\n",
    "- druhá řada (hodnoty 2, 5, 8 atd.),\n",
    "- třetí řada (hodnoty 3, 6, 9 atd.).\n",
    "- Zeptej se uživatele, na kterou ze tří řad sází a na výši sázky.\n",
    "- Vytvoř funkci `ruleta`, která bude mít parametry `cislo_rady` a `sazka`. Pomocí funkce `randint` z modulu `random`\n",
    "  vygeneruj náhodné číslo v rozsahu od 0 (včetně) do 36. Vyhodnoť, do které řady číslo náleží. Nezapomeň, že 0 nepatří\n",
    "  do žádné z řad a pokud padne, uživatel vždy prohrává.\n",
    "- Funkce `ruleta` vrací hodnotu výhry. Pokud uživatel vsadil na správnou řadu, vyhrává dvojnásobek sázky, v opačném\n",
    "  případě nevyhrává nic jeho sázka propadá."
   ],
   "metadata": {
    "collapsed": false,
    "pycharm": {
     "name": "#%% md\n"
    }
   }
  },
  {
   "cell_type": "markdown",
   "source": [
    "### Řešení"
   ],
   "metadata": {
    "collapsed": false,
    "pycharm": {
     "name": "#%% md\n"
    }
   }
  },
  {
   "cell_type": "code",
   "execution_count": 8,
   "outputs": [],
   "source": [
    "cislo_rady = int(input('Na kterou řadu sázíš? (1-3): '))\n",
    "sazka = int(input('Kolik sázíš?: '))"
   ],
   "metadata": {
    "collapsed": false,
    "pycharm": {
     "name": "#%%\n"
    }
   }
  },
  {
   "cell_type": "code",
   "execution_count": 9,
   "outputs": [],
   "source": [
    "import random\n",
    "\n",
    "def ruleta(cislo_rady, sazka):\n",
    "    rady = [\n",
    "        range(1, 37, 3),  # 1, 4, 7, ...\n",
    "        range(2, 37, 3),  # 2, 5, 8, ...\n",
    "        range(3, 37, 3),  # 3, 6, 9, ...\n",
    "        ]\n",
    "    hozeno = random.randint(0, 36)\n",
    "    print(f'{hozeno = }')\n",
    "    return 2 * sazka if hozeno in rady[cislo_rady - 1] else 0  # \"- 1\" kvůli indexování od nuly"
   ],
   "metadata": {
    "collapsed": false,
    "pycharm": {
     "name": "#%%\n"
    }
   }
  },
  {
   "cell_type": "code",
   "execution_count": 10,
   "outputs": [
    {
     "name": "stdout",
     "output_type": "stream",
     "text": [
      "hozeno = 30\n"
     ]
    },
    {
     "data": {
      "text/plain": "0"
     },
     "execution_count": 10,
     "metadata": {},
     "output_type": "execute_result"
    }
   ],
   "source": [
    "ruleta(cislo_rady, sazka)"
   ],
   "metadata": {
    "collapsed": false,
    "pycharm": {
     "name": "#%%\n"
    }
   }
  }
 ],
 "metadata": {
  "kernelspec": {
   "display_name": "Python 3",
   "language": "python",
   "name": "python3"
  },
  "language_info": {
   "codemirror_mode": {
    "name": "ipython",
    "version": 2
   },
   "file_extension": ".py",
   "mimetype": "text/x-python",
   "name": "python",
   "nbconvert_exporter": "python",
   "pygments_lexer": "ipython2",
   "version": "2.7.6"
  }
 },
 "nbformat": 4,
 "nbformat_minor": 0
}