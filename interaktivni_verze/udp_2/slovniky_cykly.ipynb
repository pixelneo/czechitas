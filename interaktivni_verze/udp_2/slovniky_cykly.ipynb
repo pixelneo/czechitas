{
 "cells": [
  {
   "cell_type": "markdown",
   "source": [
    "## 1 - Vysvědčení ○○○♦♦\n",
    "\n",
    "Uvažujme vysvědčení, které máme zapsané jako slovník."
   ],
   "metadata": {
    "collapsed": false,
    "pycharm": {
     "name": "#%% md\n"
    }
   }
  },
  {
   "cell_type": "code",
   "execution_count": 11,
   "outputs": [],
   "source": [
    "vysvedceni = {\n",
    "    \"Český jazyk\"     : 1,\n",
    "    \"Anglický jazyk\"  : 1,\n",
    "    \"Matematika\"      : 1,\n",
    "    \"Přírodopis\"      : 2,\n",
    "    \"Dějepis\"         : 1,\n",
    "    \"Fyzika\"          : 2,\n",
    "    \"Hudební výchova\" : 4,\n",
    "    \"Výtvarná výchova\": 2,\n",
    "    \"Tělesná výchova\" : 3,\n",
    "    \"Chemie\"          : 4,\n",
    "    }"
   ],
   "metadata": {
    "collapsed": false,
    "pycharm": {
     "name": "#%%\n"
    }
   }
  },
  {
   "cell_type": "markdown",
   "source": [
    "- Napiš program, který spočte průměrnou známku ze všech předmětů.\n",
    "- Uprav program, aby vypsal všechny předměty, ve kterých získal student známku 1."
   ],
   "metadata": {
    "collapsed": false,
    "pycharm": {
     "name": "#%% md\n"
    }
   }
  },
  {
   "cell_type": "markdown",
   "source": [
    "### Řešení"
   ],
   "metadata": {
    "collapsed": false,
    "pycharm": {
     "name": "#%% md\n"
    }
   }
  },
  {
   "cell_type": "code",
   "execution_count": 12,
   "outputs": [
    {
     "name": "stdout",
     "output_type": "stream",
     "text": [
      "Průměrná známka je: 2.1\n",
      "Předměty s jedničkou:\n",
      "- Český jazyk\n",
      "- Anglický jazyk\n",
      "- Matematika\n",
      "- Dějepis\n"
     ]
    }
   ],
   "source": [
    "prumerna_znamka = sum(vysvedceni.values()) / len(vysvedceni)\n",
    "print(f'Průměrná známka je: {prumerna_znamka}')\n",
    "\n",
    "print('Předměty s jedničkou:')\n",
    "for predmet, znamka in vysvedceni.items():\n",
    "    if znamka == 1:\n",
    "        print(f'- {predmet}')  # vytiskneme s pomlckou pred"
   ],
   "metadata": {
    "collapsed": false,
    "pycharm": {
     "name": "#%%\n"
    }
   }
  },
  {
   "cell_type": "markdown",
   "source": [
    "## 2 - Čtenářský deník ○○○♦♦\n",
    "\n",
    "Gustav je vášnivým čtenářem detektivek z našeho nakladatelství a navíc si zapisuje knihy, které přečetl.\n",
    "Níže ve slovníku vidíme, jaké informace si eviduje - název knihy, počet stran a hodnocení od 0 do 10."
   ],
   "metadata": {
    "collapsed": false,
    "pycharm": {
     "name": "#%% md\n"
    }
   }
  },
  {
   "cell_type": "code",
   "execution_count": 13,
   "outputs": [],
   "source": [
    "knihy = [\n",
    "    {'nazev': 'Vražda s příliš mnoha notami', 'pocet_stran': 450, 'hodnoceni': 5},\n",
    "    {'nazev': 'Vražda podle knihy', 'pocet_stran': 524, 'hodnoceni': 9},\n",
    "    {'nazev': 'Past', 'pocet_stran': 390, 'hodnoceni': 4},\n",
    "    {'nazev': 'Popel popelu', 'pocet_stran': 411, 'hodnoceni': 10},\n",
    "    {'nazev': 'Noc, která mě zabila', 'pocet_stran': 159, 'hodnoceni': 7},\n",
    "    {'nazev': 'Vražda, kouř a stíny', 'pocet_stran': 258, 'hodnoceni': 6},\n",
    "    {'nazev': 'Zločinný steh', 'pocet_stran': 542, 'hodnoceni': 8},\n",
    "    {'nazev': 'Zkus mě chytit', 'pocet_stran': 247, 'hodnoceni': 7},\n",
    "    {'nazev': 'Vrah zavolá v deset', 'pocet_stran': 396, 'hodnoceni': 6},\n",
    "    ]"
   ],
   "metadata": {
    "collapsed": false,
    "pycharm": {
     "name": "#%%\n"
    }
   }
  },
  {
   "cell_type": "markdown",
   "source": [
    "- Napiš program, který spočte celkový počet stran, které Gustav přečetl.\n",
    "- Připiš do programu výpočet počtu knih, kterým dal Gustav hodnocení alespoň 8."
   ],
   "metadata": {
    "collapsed": false,
    "pycharm": {
     "name": "#%% md\n"
    }
   }
  },
  {
   "cell_type": "markdown",
   "source": [
    "### Řešení"
   ],
   "metadata": {
    "collapsed": false,
    "pycharm": {
     "name": "#%% md\n"
    }
   }
  },
  {
   "cell_type": "code",
   "execution_count": 14,
   "outputs": [
    {
     "name": "stdout",
     "output_type": "stream",
     "text": [
      "Přečetl 3377 stran.\n",
      "Počet knih s hodnocením >= 8: 3\n"
     ]
    }
   ],
   "source": [
    "pocet_stran = 0\n",
    "for kniha in knihy:\n",
    "    pocet_stran += kniha['pocet_stran']\n",
    "\n",
    "print(f'Přečetl {pocet_stran} stran.')\n",
    "\n",
    "pocet_nad_osm = 0\n",
    "for kniha in knihy:\n",
    "    if kniha['hodnoceni'] >= 8:\n",
    "        pocet_nad_osm += 1\n",
    "print(f'Počet knih s hodnocením >= 8: {pocet_nad_osm}')"
   ],
   "metadata": {
    "collapsed": false,
    "pycharm": {
     "name": "#%%\n"
    }
   }
  },
  {
   "cell_type": "markdown",
   "source": [
    "# Bonusy"
   ],
   "metadata": {
    "collapsed": false,
    "pycharm": {
     "name": "#%% md\n"
    }
   }
  },
  {
   "cell_type": "markdown",
   "source": [
    "## 3 - Poznávací značky ○○♦♦♦\n",
    "\n",
    "V následujícím slovníků je evidence automobilů. Klíčem jsou státní poznávací značky (SPZ) a hodnotou je jméno majitele vozu."
   ],
   "metadata": {
    "collapsed": false,
    "pycharm": {
     "name": "#%% md\n"
    }
   }
  },
  {
   "cell_type": "code",
   "execution_count": 15,
   "outputs": [],
   "source": [
    "spzetky = {\n",
    "    \"4A2 3000\": \"František Novák\",\n",
    "    \"6P5 4747\": \"Jana Pilná\",\n",
    "    \"3B7 3652\": \"Jaroslav Sečkár\",\n",
    "    \"1P5 5269\": \"Marta Nováková\",\n",
    "    \"37E 1252\": \"Martina Matušková\",\n",
    "    \"2A5 2241\": \"Jan Král\"\n",
    "    }"
   ],
   "metadata": {
    "collapsed": false,
    "pycharm": {
     "name": "#%%\n"
    }
   }
  },
  {
   "cell_type": "markdown",
   "source": [
    "- Napiš program, který vypíše všechny majitele, jejichž vozidlo je registrováno v Plzeňském kraji, tj. na druhém místě (index 1) řetězce v klíči je písmeno P."
   ],
   "metadata": {
    "collapsed": false,
    "pycharm": {
     "name": "#%% md\n"
    }
   }
  },
  {
   "cell_type": "markdown",
   "source": [
    "### Řešení"
   ],
   "metadata": {
    "collapsed": false,
    "pycharm": {
     "name": "#%% md\n"
    }
   }
  },
  {
   "cell_type": "code",
   "execution_count": 16,
   "outputs": [
    {
     "name": "stdout",
     "output_type": "stream",
     "text": [
      "Lidé z Plzeňského kraje:\n",
      "- Jana Pilná\n",
      "- Marta Nováková\n"
     ]
    }
   ],
   "source": [
    "print('Lidé z Plzeňského kraje:')\n",
    "for spz, jmeno in spzetky.items():\n",
    "    if spz[1] == 'P':\n",
    "        print(f'- {jmeno}')"
   ],
   "metadata": {
    "collapsed": false,
    "pycharm": {
     "name": "#%%\n"
    }
   }
  }
 ],
 "metadata": {
  "kernelspec": {
   "display_name": "Python 3",
   "language": "python",
   "name": "python3"
  },
  "language_info": {
   "codemirror_mode": {
    "name": "ipython",
    "version": 2
   },
   "file_extension": ".py",
   "mimetype": "text/x-python",
   "name": "python",
   "nbconvert_exporter": "python",
   "pygments_lexer": "ipython2",
   "version": "2.7.6"
  }
 },
 "nbformat": 4,
 "nbformat_minor": 0
}