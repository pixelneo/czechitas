{
 "cells": [
  {
   "cell_type": "markdown",
   "source": [
    "## 1 - Seznam hodnocení ○○○○♦\n",
    "\n",
    "Mějme seznam hodnocení divadelní hry *Plyšáci na útěku*, který vypadá takto:\n",
    "`hodnoceni = [7, 9, 6, 7, 9, 8]`\n",
    "Vytvořte program, který projde tento seznam a vypíše každé hodnocení na nový řádek. Upravte program tak, aby vypisoval\n",
    "výstup v tomto formátu:\n",
    "\n",
    "    7/10\n",
    "    9/10\n",
    "    6/10\n",
    "    7/10\n",
    "    9/10\n",
    "    8/10"
   ],
   "metadata": {
    "collapsed": false,
    "pycharm": {
     "name": "#%% md\n"
    }
   }
  },
  {
   "cell_type": "markdown",
   "source": [
    "### Řešení"
   ],
   "metadata": {
    "collapsed": false,
    "pycharm": {
     "name": "#%% md\n"
    }
   }
  },
  {
   "cell_type": "code",
   "execution_count": 11,
   "outputs": [
    {
     "name": "stdout",
     "output_type": "stream",
     "text": [
      "7/10\n",
      "9/10\n",
      "6/10\n",
      "7/10\n",
      "9/10\n",
      "8/10\n"
     ]
    }
   ],
   "source": [
    "hodnoceni = [7, 9, 6, 7, 9, 8]\n",
    "for prvek in hodnoceni:\n",
    "    print(f\"{prvek}/10\")"
   ],
   "metadata": {
    "collapsed": false,
    "pycharm": {
     "name": "#%%\n"
    }
   }
  },
  {
   "cell_type": "markdown",
   "source": [
    "## 2 - Procházení seznamu ○♦♦♦♦\n",
    "\n",
    "Založte si program `hesla.py` a na jeho začátek vložte následující kód obsahující seznam hesel pro přihlášení do nějakého systému."
   ],
   "metadata": {
    "collapsed": false,
    "pycharm": {
     "name": "#%% md\n"
    }
   }
  },
  {
   "cell_type": "code",
   "execution_count": 12,
   "outputs": [],
   "source": [
    "hesla = [\n",
    "    \"xyz101\",\n",
    "    \"punťa\",\n",
    "    \"razor-blade\",\n",
    "    \"1234\",\n",
    "    \"12011986\",\n",
    "    \"martin111\",\n",
    "    \"trhnisi\",\n",
    "    \"hokuspokus\",\n",
    "    \"jeník15\",\n",
    "    \"kristus-te-spasi\",\n",
    "    \"beruška\",\n",
    "    \"strčprstskrzkrk\",\n",
    "    ]"
   ],
   "metadata": {
    "collapsed": false,
    "pycharm": {
     "name": "#%%\n"
    }
   }
  },
  {
   "cell_type": "markdown",
   "source": [
    "- Pomocí cyklu vypište všechny hesla na obrazovku, každé na jeden řádek.\n",
    "- Upravte váš program tak, aby vypisoval jen bezpečná hesla, tedy taková, jež jsou delší než 8 znaků.\n",
    "- Upravte váš program tak, aby vypisoval jen ta hesla, jež obsahují znak pomlčky `-`."
   ],
   "metadata": {
    "collapsed": false,
    "pycharm": {
     "name": "#%% md\n"
    }
   }
  },
  {
   "cell_type": "markdown",
   "source": [
    "### Řešení"
   ],
   "metadata": {
    "collapsed": false,
    "pycharm": {
     "name": "#%% md\n"
    }
   }
  },
  {
   "cell_type": "code",
   "execution_count": 13,
   "outputs": [
    {
     "name": "stdout",
     "output_type": "stream",
     "text": [
      "xyz101\n",
      "punťa\n",
      "razor-blade\n",
      "1234\n",
      "12011986\n",
      "martin111\n",
      "trhnisi\n",
      "hokuspokus\n",
      "jeník15\n",
      "kristus-te-spasi\n",
      "beruška\n",
      "strčprstskrzkrk\n"
     ]
    }
   ],
   "source": [
    "# Pomocí cyklu vypište všechny hesla na obrazovku, každé na jeden řádek.\n",
    "for heslo in hesla:\n",
    "    print(heslo)"
   ],
   "metadata": {
    "collapsed": false,
    "pycharm": {
     "name": "#%%\n"
    }
   }
  },
  {
   "cell_type": "code",
   "execution_count": 14,
   "outputs": [
    {
     "name": "stdout",
     "output_type": "stream",
     "text": [
      "razor-blade\n",
      "martin111\n",
      "hokuspokus\n",
      "kristus-te-spasi\n",
      "strčprstskrzkrk\n"
     ]
    }
   ],
   "source": [
    "# Upravte váš program tak, aby vypisoval jen bezpečná hesla, tedy taková, jež jsou delší než 8 znaků.\n",
    "for heslo in hesla:\n",
    "    if len(heslo) > 8:\n",
    "        print(heslo)"
   ],
   "metadata": {
    "collapsed": false,
    "pycharm": {
     "name": "#%%\n"
    }
   }
  },
  {
   "cell_type": "code",
   "execution_count": 15,
   "outputs": [
    {
     "name": "stdout",
     "output_type": "stream",
     "text": [
      "razor-blade\n",
      "kristus-te-spasi\n"
     ]
    }
   ],
   "source": [
    "# Upravte váš program tak, aby vypisoval jen ta hesla, jež obsahují znak pomlčky ‘-’.\n",
    "for heslo in hesla:\n",
    "    if \"-\" in heslo:\n",
    "        print(heslo)"
   ],
   "metadata": {
    "collapsed": false,
    "pycharm": {
     "name": "#%%\n"
    }
   }
  },
  {
   "cell_type": "markdown",
   "source": [
    "## 3 - Složitější seznam ○○○○♦\n",
    "\n",
    "Založte si program `cykly_02.py` a použijte v něm následující seznam měsíců v roce. Všimněte si, že je to seznam seznamů."
   ],
   "metadata": {
    "collapsed": false,
    "pycharm": {
     "name": "#%% md\n"
    }
   }
  },
  {
   "cell_type": "code",
   "execution_count": 16,
   "outputs": [],
   "source": [
    "mesice = [\n",
    "    [\"leden\", 31],\n",
    "    [\"únor\", 28],\n",
    "    [\"březen\", 31],\n",
    "    [\"duben\", 30],\n",
    "    [\"květen\", 31],\n",
    "    [\"červen\", 30],\n",
    "    [\"červenec\", 31],\n",
    "    [\"srpen\", 31],\n",
    "    [\"září\", 30],\n",
    "    [\"říjen\", 31],\n",
    "    [\"listopad\", 30],\n",
    "    [\"prosinec\", 31],\n",
    "    ]"
   ],
   "metadata": {
    "collapsed": false,
    "pycharm": {
     "name": "#%%\n"
    }
   }
  },
  {
   "cell_type": "markdown",
   "source": [
    "- Pomocí cyklu projděte tento seznam a vypište na výstup názvy jednotlivých měsíců.\n",
    "- Pomocí dalšího cyklu vypište na výstup počty dní v jednotlivých měsících."
   ],
   "metadata": {
    "collapsed": false,
    "pycharm": {
     "name": "#%% md\n"
    }
   }
  },
  {
   "cell_type": "markdown",
   "source": [
    "### Řešení"
   ],
   "metadata": {
    "collapsed": false,
    "pycharm": {
     "name": "#%% md\n"
    }
   }
  },
  {
   "cell_type": "code",
   "execution_count": 17,
   "outputs": [
    {
     "name": "stdout",
     "output_type": "stream",
     "text": [
      "leden\n",
      "únor\n",
      "březen\n",
      "duben\n",
      "květen\n",
      "červen\n",
      "červenec\n",
      "srpen\n",
      "září\n",
      "říjen\n",
      "listopad\n",
      "prosinec\n"
     ]
    }
   ],
   "source": [
    "# Pomocí cyklu projděte tento seznam a vypište na výstup názvy jednotlivých měsíců.\n",
    "for mesic in mesice:\n",
    "    print(mesic[0])"
   ],
   "metadata": {
    "collapsed": false,
    "pycharm": {
     "name": "#%%\n"
    }
   }
  },
  {
   "cell_type": "code",
   "execution_count": 18,
   "outputs": [
    {
     "name": "stdout",
     "output_type": "stream",
     "text": [
      "31\n",
      "28\n",
      "31\n",
      "30\n",
      "31\n",
      "30\n",
      "31\n",
      "31\n",
      "30\n",
      "31\n",
      "30\n",
      "31\n"
     ]
    }
   ],
   "source": [
    "# Pomocí dalšího cyklu vypište na výstup počty dní v jednotlivých měsících.\n",
    "for mesic in mesice:\n",
    "    print(mesic[1])"
   ],
   "metadata": {
    "collapsed": false,
    "pycharm": {
     "name": "#%%\n"
    }
   }
  },
  {
   "cell_type": "markdown",
   "source": [
    "# Bonusy"
   ],
   "metadata": {
    "collapsed": false,
    "pycharm": {
     "name": "#%% md\n"
    }
   }
  },
  {
   "cell_type": "markdown",
   "source": [
    "## 4 - Hry ○○♦♦♦\n",
    "\n",
    "Následující seznam obsahuje seznam všech divadelních her, které se hrají v divadle Pěst na oko. Každá hra má svůj název\n",
    "a trvání v minutách."
   ],
   "metadata": {
    "collapsed": false,
    "pycharm": {
     "name": "#%% md\n"
    }
   }
  },
  {
   "cell_type": "code",
   "execution_count": 19,
   "outputs": [],
   "source": [
    "hry = [\n",
    "    [\"Ňadro na ňadru na nádru\", 180],\n",
    "    [\"Útok plyšových krokodýlů\", 95],\n",
    "    [\"Cesta do říše zelí\", 128],\n",
    "    [\"Romance na zdymadle\", 144],\n",
    "    [\"Zátiší s mimozemšťanem\", 135],\n",
    "    [\"Čtyři facky a dortík\", 100],\n",
    "    [\"Motorová okurka\", 165],\n",
    "    [\"Johnny Noir\", 140],\n",
    "    [\"Pražská kavárna vrací úder\", 130],\n",
    "    [\"Pět sester ve vratech\", 111],\n",
    "    [\"Stařec a krajta\", 187],\n",
    "    [\"Růžová nemoc\", 210],\n",
    "    [\"Smrt v přímém přenosu\", 265],\n",
    "    ]"
   ],
   "metadata": {
    "collapsed": false,
    "pycharm": {
     "name": "#%%\n"
    }
   }
  },
  {
   "cell_type": "markdown",
   "source": [
    "- Pomocí cyklu projděte tento seznam a vypište na výstup názvy všech her.\n",
    "- Vypište na výstup názvy všech her, které trvají více než 120 minut.\n",
    "- Vypište na výstup názvy všech her spolu s jejich trváním v hodinách a minutách."
   ],
   "metadata": {
    "collapsed": false,
    "pycharm": {
     "name": "#%% md\n"
    }
   }
  },
  {
   "cell_type": "markdown",
   "source": [
    "### Řešení"
   ],
   "metadata": {
    "collapsed": false,
    "pycharm": {
     "name": "#%% md\n"
    }
   }
  },
  {
   "cell_type": "code",
   "execution_count": 20,
   "outputs": [
    {
     "name": "stdout",
     "output_type": "stream",
     "text": [
      "Ňadro na ňadru na nádru\n",
      "Útok plyšových krokodýlů\n",
      "Cesta do říše zelí\n",
      "Romance na zdymadle\n",
      "Zátiší s mimozemšťanem\n",
      "Čtyři facky a dortík\n",
      "Motorová okurka\n",
      "Johnny Noir\n",
      "Pražská kavárna vrací úder\n",
      "Pět sester ve vratech\n",
      "Stařec a krajta\n",
      "Růžová nemoc\n",
      "Smrt v přímém přenosu\n"
     ]
    }
   ],
   "source": [
    "# Pomocí cyklu projděte tento seznam a vypište na výstup názvy všech her.\n",
    "for hra in hry:\n",
    "    print(hra[0])"
   ],
   "metadata": {
    "collapsed": false,
    "pycharm": {
     "name": "#%%\n"
    }
   }
  },
  {
   "cell_type": "code",
   "execution_count": 21,
   "outputs": [
    {
     "name": "stdout",
     "output_type": "stream",
     "text": [
      "Ňadro na ňadru na nádru\n",
      "Cesta do říše zelí\n",
      "Romance na zdymadle\n",
      "Zátiší s mimozemšťanem\n",
      "Motorová okurka\n",
      "Johnny Noir\n",
      "Pražská kavárna vrací úder\n",
      "Stařec a krajta\n",
      "Růžová nemoc\n",
      "Smrt v přímém přenosu\n"
     ]
    }
   ],
   "source": [
    "# Vypište na výstup názvy všech her, které trvají více než 120 minut.\n",
    "for hra in hry:\n",
    "    if hra[1] > 120:\n",
    "        print(hra[0])"
   ],
   "metadata": {
    "collapsed": false,
    "pycharm": {
     "name": "#%%\n"
    }
   }
  },
  {
   "cell_type": "code",
   "execution_count": 22,
   "outputs": [
    {
     "name": "stdout",
     "output_type": "stream",
     "text": [
      "Ňadro na ňadru na nádru trvá 3 hodin a 0 minut.\n",
      "Útok plyšových krokodýlů trvá 1 hodin a 35 minut.\n",
      "Cesta do říše zelí trvá 2 hodin a 8 minut.\n",
      "Romance na zdymadle trvá 2 hodin a 24 minut.\n",
      "Zátiší s mimozemšťanem trvá 2 hodin a 15 minut.\n",
      "Čtyři facky a dortík trvá 1 hodin a 40 minut.\n",
      "Motorová okurka trvá 2 hodin a 45 minut.\n",
      "Johnny Noir trvá 2 hodin a 20 minut.\n",
      "Pražská kavárna vrací úder trvá 2 hodin a 10 minut.\n",
      "Pět sester ve vratech trvá 1 hodin a 51 minut.\n",
      "Stařec a krajta trvá 3 hodin a 7 minut.\n",
      "Růžová nemoc trvá 3 hodin a 30 minut.\n",
      "Smrt v přímém přenosu trvá 4 hodin a 25 minut.\n"
     ]
    }
   ],
   "source": [
    "# Vypište na výstup názvy všech her spolu s jejich trváním v hodinách a minutách.\n",
    "for hra in hry:\n",
    "    print(f\"{hra[0]} trvá {hra[1] // 60} hodin a {hra[1] % 60} minut.\")"
   ],
   "metadata": {
    "collapsed": false,
    "pycharm": {
     "name": "#%%\n"
    }
   }
  },
  {
   "cell_type": "markdown",
   "source": [
    "## 5 - Průměr ○○○♦♦\n",
    "\n",
    "Napište cyklus, který projde zadaný seznam desetinných čísel a spočítá jejich průměr. Seznam čísel si vytvořte na začátku programu."
   ],
   "metadata": {
    "collapsed": false,
    "pycharm": {
     "name": "#%% md\n"
    }
   }
  },
  {
   "cell_type": "markdown",
   "source": [
    "### Řešení"
   ],
   "metadata": {
    "collapsed": false,
    "pycharm": {
     "name": "#%% md\n"
    }
   }
  },
  {
   "cell_type": "code",
   "execution_count": 23,
   "outputs": [
    {
     "name": "stdout",
     "output_type": "stream",
     "text": [
      "13.125\n"
     ]
    }
   ],
   "source": [
    "cisla = [10.5, 13.3, 17.2, 11.5]\n",
    "soucet = 0\n",
    "for cislo in cisla:\n",
    "    soucet += cislo\n",
    "prumer = soucet / len(cisla)\n",
    "print(prumer)"
   ],
   "metadata": {
    "collapsed": false,
    "pycharm": {
     "name": "#%%\n"
    }
   }
  },
  {
   "cell_type": "markdown",
   "source": [
    "## 6 - Největší prvek ○○♦♦♦\n",
    "\n",
    "Napište cyklus, který projde zadaný seznam celých čísel a najde v něm největší hodnotu."
   ],
   "metadata": {
    "collapsed": false,
    "pycharm": {
     "name": "#%% md\n"
    }
   }
  },
  {
   "cell_type": "markdown",
   "source": [
    "### Řešení"
   ],
   "metadata": {
    "collapsed": false,
    "pycharm": {
     "name": "#%% md\n"
    }
   }
  },
  {
   "cell_type": "code",
   "execution_count": 24,
   "outputs": [
    {
     "name": "stdout",
     "output_type": "stream",
     "text": [
      "65\n"
     ]
    }
   ],
   "source": [
    "cisla = [11, 23, 45, 1, 9, 65, 34]\n",
    "nejvetsi = cisla[0]\n",
    "for cislo in cisla:\n",
    "    if cislo > nejvetsi:\n",
    "        nejvetsi = cislo\n",
    "print(nejvetsi)"
   ],
   "metadata": {
    "collapsed": false,
    "pycharm": {
     "name": "#%%\n"
    }
   }
  }
 ],
 "metadata": {
  "kernelspec": {
   "display_name": "Python 3",
   "language": "python",
   "name": "python3"
  },
  "language_info": {
   "codemirror_mode": {
    "name": "ipython",
    "version": 2
   },
   "file_extension": ".py",
   "mimetype": "text/x-python",
   "name": "python",
   "nbconvert_exporter": "python",
   "pygments_lexer": "ipython2",
   "version": "2.7.6"
  }
 },
 "nbformat": 4,
 "nbformat_minor": 0
}