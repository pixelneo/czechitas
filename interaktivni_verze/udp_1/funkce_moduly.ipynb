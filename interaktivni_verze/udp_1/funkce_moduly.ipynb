{
 "cells": [
  {
   "cell_type": "markdown",
   "source": [
    "## 1 - Délka názvu ○○○○♦\n",
    "\n",
    "Uložte si do proměnné nazev řetězec s názvem *Divadlo Pěst na oko*. Pokud použijeme designové písmo nad hlavní vchod\n",
    "budovy, jeden znak (i mezera) bude široký 30 cm. Použijte funkci `len()` abyste zjistili počet znaků v názvu divadla a\n",
    "spočítejte délku nápisu v centimetrech."
   ],
   "metadata": {
    "collapsed": false,
    "pycharm": {
     "name": "#%% md\n"
    }
   }
  },
  {
   "cell_type": "markdown",
   "source": [
    "### Řešení"
   ],
   "metadata": {
    "collapsed": false,
    "pycharm": {
     "name": "#%% md\n"
    }
   }
  },
  {
   "cell_type": "code",
   "execution_count": 4,
   "outputs": [],
   "source": [
    "nazev = \"Divadlo Pěst na oko\"\n",
    "delka = len(nazev) * 30"
   ],
   "metadata": {
    "collapsed": false,
    "pycharm": {
     "name": "#%%\n"
    }
   }
  },
  {
   "cell_type": "markdown",
   "source": [
    "## 2 - Zaokrouhlování ○○○♦♦\n",
    "\n",
    "Divadlo chce mít ceny vstupenek jak v eurech tak v celých korunách. Uložte do proměnné `eura` cenu studentské vstupenky (65 % z 12 euro). Použijte funkci `round()` a do proměnné `koruny` spočítejte, kolik činí studentské vstupné v korunách jestliže, kurz eura je 24 korun."
   ],
   "metadata": {
    "collapsed": false,
    "pycharm": {
     "name": "#%% md\n"
    }
   }
  },
  {
   "cell_type": "markdown",
   "source": [
    "### Řešení"
   ],
   "metadata": {
    "collapsed": false,
    "pycharm": {
     "name": "#%% md\n"
    }
   }
  },
  {
   "cell_type": "code",
   "execution_count": 5,
   "outputs": [],
   "source": [
    "eura = 12 * 0.65\n",
    "koruny = round(24 * eura)"
   ],
   "metadata": {
    "collapsed": false,
    "pycharm": {
     "name": "#%%\n"
    }
   }
  },
  {
   "cell_type": "markdown",
   "source": [
    "## 3 - Zaokrouhlování nahoru ○○○○♦\n",
    "\n",
    "Importujte modul `math` a vyzkoušejte si funkci `math.ceil()`, která slouží k zaokrouhlování směrem nahoru. Proveďte zaokrouhlování z předchozího cvičení na celé koruny směrem nahoru."
   ],
   "metadata": {
    "collapsed": false,
    "pycharm": {
     "name": "#%% md\n"
    }
   }
  },
  {
   "cell_type": "markdown",
   "source": [
    "### Řešení"
   ],
   "metadata": {
    "collapsed": false,
    "pycharm": {
     "name": "#%% md\n"
    }
   }
  },
  {
   "cell_type": "code",
   "execution_count": 6,
   "outputs": [],
   "source": [
    "import math\n",
    "\n",
    "koruny = math.ceil(24 * koruny)"
   ],
   "metadata": {
    "collapsed": false,
    "pycharm": {
     "name": "#%%\n"
    }
   }
  },
  {
   "cell_type": "markdown",
   "source": [
    "## 4 - Náhodná čísla ○○○♦♦\n",
    "\n",
    "Na informačním panelu v předsálí divadla se zobrazují informace o náhodných představeních. Pro tento panel potřebujeme generátor náhodných čísel, který bude generovat čísla představení mezi 1 až 24.\n",
    "Importujte modul `random` a použijte funkci `randint()` pro vygenerování několika náhodných čísel z tohoto rozsahu."
   ],
   "metadata": {
    "collapsed": false,
    "pycharm": {
     "name": "#%% md\n"
    }
   }
  },
  {
   "cell_type": "markdown",
   "source": [
    "### Řešení"
   ],
   "metadata": {
    "collapsed": false,
    "pycharm": {
     "name": "#%% md\n"
    }
   }
  },
  {
   "cell_type": "code",
   "execution_count": 7,
   "outputs": [],
   "source": [
    "import random\n",
    "\n",
    "cislo = random.randint(1, 24)"
   ],
   "metadata": {
    "collapsed": false,
    "pycharm": {
     "name": "#%%\n"
    }
   }
  },
  {
   "cell_type": "markdown",
   "source": [
    "# Bonusy"
   ],
   "metadata": {
    "collapsed": false,
    "pycharm": {
     "name": "#%% md\n"
    }
   }
  },
  {
   "cell_type": "markdown",
   "source": [
    "## 5 - Klasické zaokrouhlování[^1] ♦♦♦♦♦\n",
    "\n",
    "Překvapivě Python neobsahuje[^2] žádnou funkci, která by dělala klasické zaokrouhlování, tedy takové, na které jsme\n",
    "všichni zvyklí ze školy. S něčím takovým se nemůžeme spokojit.\n",
    "\n",
    "- Zkuste vymyslet (za použití funkcí, které už znáte) příkaz, který zaokrouhlí číslo v proměnné `cislo` na celé číslo\n",
    "  klasickým zaokrouhlováním.\n",
    "\n",
    "- Pokud si chcete svoje řešení otestovat, můžete si obsah proměnné `cislo` vygenerovat náhodně funkcí `random.uniform()`\n",
    "  . Ta má stejné vstupy jako funkce `random.randint()`, generuje ale desetinná čísla.\n",
    "\n",
    "[^1]: Tento příklad se dá považovat za zajímavost, protože klasické zaokrouhlování `round` zaokrouhluje hraniční případy\n",
    "2.5, 3.5, ... vždy k *nejbližšímu sudému celému číslu*.\n",
    "[^2]: Python tuto funkci samozřejmě obsahuje. Hned několik zaokrouhlovacích funkcí najdete v\n",
    "modulu [`decimal`](https://docs.python.org/3/library/decimal.html#rounding-modes)"
   ],
   "metadata": {
    "collapsed": false,
    "pycharm": {
     "name": "#%% md\n"
    }
   }
  },
  {
   "cell_type": "markdown",
   "source": [
    "### Řešení"
   ],
   "metadata": {
    "collapsed": false,
    "pycharm": {
     "name": "#%% md\n"
    }
   }
  },
  {
   "cell_type": "code",
   "execution_count": 8,
   "outputs": [],
   "source": [
    "import math\n",
    "import random\n",
    "\n",
    "cislo = 2.5\n",
    "zaokrouhlene = math.floor(cislo + 0.5)\n",
    "\n",
    "cislo = random.uniform(0, 10)\n",
    "zaokrouhlene = math.floor(cislo + 0.5)"
   ],
   "metadata": {
    "collapsed": false,
    "pycharm": {
     "name": "#%%\n"
    }
   }
  }
 ],
 "metadata": {
  "kernelspec": {
   "display_name": "Python 3",
   "language": "python",
   "name": "python3"
  },
  "language_info": {
   "codemirror_mode": {
    "name": "ipython",
    "version": 2
   },
   "file_extension": ".py",
   "mimetype": "text/x-python",
   "name": "python",
   "nbconvert_exporter": "python",
   "pygments_lexer": "ipython2",
   "version": "2.7.6"
  }
 },
 "nbformat": 4,
 "nbformat_minor": 0
}