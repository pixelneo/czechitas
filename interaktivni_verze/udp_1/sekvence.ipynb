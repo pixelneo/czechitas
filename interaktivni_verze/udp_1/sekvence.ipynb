{
 "cells": [
  {
   "cell_type": "markdown",
   "source": [
    "## 1 - Řetězce jako sekvence ○○○♦♦\n",
    "\n",
    "- Uložte si v Python konzoli do proměnné jmeno svoje celé jméno a nechte vypsat jeho třetí, pátý a sedmý znak.\n",
    "  Vyzkoušejte, co se stane, když budete chtít znak na pozici, která překračuje délku řetězce.\n",
    "- Upravte program `registrace.py` tak, že bude kromě uživatelského jména chtít také e-mailovou adresu. Ověřte, že adresa je v platném formátu, tedy že obsahuje zavináč, tečku a má alespoň pět znaků."
   ],
   "metadata": {
    "collapsed": false,
    "pycharm": {
     "name": "#%% md\n"
    }
   }
  },
  {
   "cell_type": "markdown",
   "source": [
    "### Řešení"
   ],
   "metadata": {
    "collapsed": false,
    "pycharm": {
     "name": "#%% md\n"
    }
   }
  },
  {
   "cell_type": "code",
   "execution_count": 1,
   "outputs": [
    {
     "ename": "IndexError",
     "evalue": "string index out of range",
     "output_type": "error",
     "traceback": [
      "\u001B[1;31m---------------------------------------------------------------------------\u001B[0m",
      "\u001B[1;31mIndexError\u001B[0m                                Traceback (most recent call last)",
      "Input \u001B[1;32mIn [1]\u001B[0m, in \u001B[0;36m<cell line: 3>\u001B[1;34m()\u001B[0m\n\u001B[0;32m      1\u001B[0m uzivatel \u001B[38;5;241m=\u001B[39m \u001B[38;5;28minput\u001B[39m(\u001B[38;5;124m\"\u001B[39m\u001B[38;5;124mZadej uživatelské jméno: \u001B[39m\u001B[38;5;124m\"\u001B[39m)\n\u001B[0;32m      2\u001B[0m uzivatel[\u001B[38;5;241m2\u001B[39m]\n\u001B[1;32m----> 3\u001B[0m \u001B[43muzivatel\u001B[49m\u001B[43m[\u001B[49m\u001B[38;5;241;43m4\u001B[39;49m\u001B[43m]\u001B[49m\n\u001B[0;32m      4\u001B[0m uzivatel[\u001B[38;5;241m6\u001B[39m]\n",
      "\u001B[1;31mIndexError\u001B[0m: string index out of range"
     ]
    }
   ],
   "source": [
    "uzivatel = input(\"Zadej uživatelské jméno: \")\n",
    "uzivatel[2]\n",
    "uzivatel[4]\n",
    "uzivatel[6]"
   ],
   "metadata": {
    "collapsed": false,
    "pycharm": {
     "name": "#%%\n"
    }
   }
  },
  {
   "cell_type": "code",
   "execution_count": null,
   "outputs": [],
   "source": [
    "uzivatel = input('Zadej uživatelské jméno: ')\n",
    "\n",
    "email = input(\"Zadej emailovou adresu: \")\n",
    "if '@' not in email or '.' not in email or len(email) < 5:\n",
    "    print('Emailova adresa není v platném formátu. Musí obsahovat zavináč, tečku a mít alespoň 5 znaků.')\n",
    "    exit()"
   ],
   "metadata": {
    "collapsed": false,
    "pycharm": {
     "name": "#%%\n"
    }
   }
  },
  {
   "cell_type": "markdown",
   "source": [
    "## 2 - Seznamy ○♦♦♦♦\n",
    "\n",
    "Celé toto cvičení dělejte v příkazové řádce Pythonu.\n",
    "\n",
    "- Vytvořte nějaký seznam celých čísel, například počty diváků na několika po sobě jdoucích představeních. Použije metodu\n",
    "  `append` a přidejte do seznamu počet diváků na jednom dalším představení.\n",
    "- Vytvořte nějaký seznam desetinných čísel, například zaplněnost divadla v několika po sobě jdoucích představeních.\n",
    "- Vytvořte nějaký seznam řetězců, například seznam názvů několika divadelních představení, která divadlo hraje. Uložte\n",
    "  tento seznam do proměnné `hry`. Uložte do nějaké proměnné druhou položku tohoto seznamu.\n",
    "- Do proměnné `hodnoceni` uložte seznam hodnocení, které obdržela divadelní hra\n",
    "  *Plyšáci na útěku* v různých recenzních časopisech. Hodnocení je vždy dvouprvkový seznam obsahující název recenzního\n",
    "  časopisu jako řetězec a samotné hodnocení jako číslo mezi 1 až 10. Přidejte na konec tohoto seznamu nové hodnocení z\n",
    "  časopisu *Divadelní oběžník*."
   ],
   "metadata": {
    "collapsed": false,
    "pycharm": {
     "name": "#%% md\n"
    }
   }
  },
  {
   "cell_type": "markdown",
   "source": [
    "### Řešení"
   ],
   "metadata": {
    "collapsed": false,
    "pycharm": {
     "name": "#%% md\n"
    }
   }
  },
  {
   "cell_type": "code",
   "execution_count": 2,
   "outputs": [],
   "source": [
    "pocty_divaku = [120, 100, 95, 78, 100]\n",
    "pocty_divaku.append(113)\n",
    "\n",
    "zaplnenost = [0.9, 0.8, 0.7, 0.65, 0.8, 0.85]\n",
    "\n",
    "hry = ['Hra A', 'Hra B', 'Hra C', 'Hra D', 'Hra E', 'Hra F']\n",
    "druha_hra = hry[1]\n",
    "\n",
    "hodnoceni = [\n",
    "    ['Casopis A', 5],\n",
    "    ['Casopis B', 8],\n",
    "    ['Casopis C', 7],\n",
    "    ]\n",
    "hodnoceni.append(['Divadelni obeznik', 7])"
   ],
   "metadata": {
    "collapsed": false,
    "pycharm": {
     "name": "#%%\n"
    }
   }
  },
  {
   "cell_type": "markdown",
   "source": [
    "# Bonusy"
   ],
   "metadata": {
    "collapsed": false,
    "pycharm": {
     "name": "#%% md\n"
    }
   }
  },
  {
   "cell_type": "markdown",
   "source": [
    "## 3 - Ověřování hesla ○○♦♦♦\n",
    "\n",
    "Ověřování hesla se někdy dělá tak, že se vás systém ptá pouze na některé jeho znaky. Napište program, který má uloženo\n",
    "heslo, které musí uživatel zadat. Pak se jej postupně zeptejte například na druhý, pátý a sedmý znak hesla. Propusťte\n",
    "uživatele pouze tehdy, zadá-li všechny tyto znaky správně."
   ],
   "metadata": {
    "collapsed": false,
    "pycharm": {
     "name": "#%% md\n"
    }
   }
  },
  {
   "cell_type": "markdown",
   "source": [
    "### Řešení"
   ],
   "metadata": {
    "collapsed": false,
    "pycharm": {
     "name": "#%% md\n"
    }
   }
  },
  {
   "cell_type": "code",
   "execution_count": 3,
   "outputs": [
    {
     "name": "stdout",
     "output_type": "stream",
     "text": [
      "Ověření neúspěšné!\n"
     ]
    }
   ],
   "source": [
    "heslo = 'tajneHeslo345@'\n",
    "\n",
    "znak_2 = input('Zadej 2. znak hesla: ')\n",
    "overeni_druheho = znak_2 == heslo[1]  # v promenne 'overeni_druheho' bude bud False, nebo True\n",
    "\n",
    "znak_5 = input('Zadej 5. znak hesla: ')\n",
    "overeni_pateho = znak_5 == heslo[4]\n",
    "\n",
    "znak_7 = input('Zadej 7. znak hesla: ')\n",
    "overeni_sedmeho = znak_7 == heslo[6]\n",
    "\n",
    "if overeni_druheho and overeni_pateho and overeni_sedmeho:  # pokud jsou vsechny tri overeni True\n",
    "    print('Ověření bylo úspěšné!')\n",
    "else:\n",
    "    print('Ověření neúspěšné!')"
   ],
   "metadata": {
    "collapsed": false,
    "pycharm": {
     "name": "#%%\n"
    }
   }
  }
 ],
 "metadata": {
  "kernelspec": {
   "display_name": "Python 3",
   "language": "python",
   "name": "python3"
  },
  "language_info": {
   "codemirror_mode": {
    "name": "ipython",
    "version": 2
   },
   "file_extension": ".py",
   "mimetype": "text/x-python",
   "name": "python",
   "nbconvert_exporter": "python",
   "pygments_lexer": "ipython2",
   "version": "2.7.6"
  }
 },
 "nbformat": 4,
 "nbformat_minor": 0
}