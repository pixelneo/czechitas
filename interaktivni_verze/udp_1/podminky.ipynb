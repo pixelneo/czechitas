{
 "cells": [
  {
   "cell_type": "markdown",
   "source": [
    "## 1 - Jednoduché podmínky ○○○♦♦\n",
    "\n",
    "- Založte si program `prihlaseni.py`. V tomto nechte uživatele zadat svoje uživatelské jméno a poté heslo. Pokud se heslo shoduje s heslem `\"simsalabim\"` vypište na výstup *Smíš vstoupit*. Program spusťte na konzoli a vyzkoušejte, že dělá co má.\n",
    "- Upravte tento program tak, aby vypsal *Vstup nepovolen* pokud uživatel zadá špatné heslo.\n",
    "\n",
    "- Upravte dále program tak, že pokud uživatel zadá správné heslo, program se ho ještě zeptá na věk a pustí jej dál pouze pokud je starší 18ti let.\n",
    "Pokud uživatel zadá heslo špatně, už se ho na věk neptejte a ukončete program voláním funkce\n",
    "  `exit()`."
   ],
   "metadata": {
    "collapsed": false,
    "pycharm": {
     "name": "#%% md\n"
    }
   }
  },
  {
   "cell_type": "markdown",
   "source": [
    "### Řešení"
   ],
   "metadata": {
    "collapsed": false,
    "pycharm": {
     "name": "#%% md\n"
    }
   }
  },
  {
   "cell_type": "markdown",
   "source": [
    "*tento blok kodu, použití `exit()`, v jupyter notebooku nefunguje (neukončí se), proto je potřeba ho pouštět jako samostatný modul*"
   ],
   "metadata": {
    "collapsed": false,
    "pycharm": {
     "name": "#%% md\n"
    }
   }
  },
  {
   "cell_type": "code",
   "execution_count": 1,
   "outputs": [
    {
     "name": "stdout",
     "output_type": "stream",
     "text": [
      "Vstup nepovolen!\n",
      "Vstup nepovolen!\n"
     ]
    }
   ],
   "source": [
    "uzivatel = input('Zadej uživatelské jméno: ')\n",
    "heslo = input('Zadej heslo: ')\n",
    "\n",
    "if heslo != 'simsalabim':\n",
    "    print('Vstup nepovolen!')\n",
    "    exit()\n",
    "\n",
    "vek = int(input('Zadej věk: '))\n",
    "if vek >= 18:\n",
    "    print('Smíš vstoupit.')\n",
    "else:\n",
    "    print('Vstup nepovolen!')"
   ],
   "metadata": {
    "collapsed": false,
    "pycharm": {
     "name": "#%%\n"
    }
   }
  },
  {
   "cell_type": "markdown",
   "source": [
    "## 2 - Cena vstupenky ○○○♦♦\n",
    "\n",
    "A nyní opět pokračujeme v našem rezervačním systému.\n",
    "\n",
    "- Program `vstupenky_01.py`, který jste napsali v předchozí fázi, si uložte jako `vstupenky_02.py`, abychom ho mohli\n",
    "  dále rozšířit o výpočet ceny vstupenky.\n",
    "- Jakmile máte v programu načtený věk uživatele, vytvořte si proměnnou `plna_cena`, do které uložte hodnotu 12.\n",
    "- Vytvořte podmínku, která do proměnné `cena` uloží cenu spočítanou podle věku uživatele dle následujících pravidel\n",
    "  - 0 euro pro návštěvníky mladší 6 let\n",
    "  - 65% ze základní ceny pro návštěvníky 6 až 26 let (žák, student)\n",
    "  - 100% ze základní ceny pro návštěvníky 27 až 64 let (dospělý)\n",
    "  - 50% ze základní ceny pro ostatní (senior).\n",
    "- Nezapomeňte na zaokrouhlování, ať nám cena vyjde v celých centech.\n",
    "- Nakonec spočtenou cenu vypište s nějakou hezkou zprávou na výstup."
   ],
   "metadata": {
    "collapsed": false,
    "pycharm": {
     "name": "#%% md\n"
    }
   }
  },
  {
   "cell_type": "markdown",
   "source": [
    "### Řešení"
   ],
   "metadata": {
    "collapsed": false,
    "pycharm": {
     "name": "#%% md\n"
    }
   }
  },
  {
   "cell_type": "code",
   "execution_count": 1,
   "outputs": [
    {
     "name": "stdout",
     "output_type": "stream",
     "text": [
      "Divadlo Pěst na oko\n",
      "Vítejte v online rezervaci vstupenek\n",
      "Pro vstup do systému je potřeba registrace\n",
      "Cena vstupenky je 6.0.\n"
     ]
    }
   ],
   "source": [
    "print('Divadlo Pěst na oko')\n",
    "print('Vítejte v online rezervaci vstupenek')\n",
    "print('Pro vstup do systému je potřeba registrace')\n",
    "\n",
    "uzivatel = input('Zadej uživatelské jméno: ')\n",
    "vek = int(input('Zadej věk: '))\n",
    "\n",
    "plna_cena = 12\n",
    "if vek < 6:\n",
    "    cena = 0\n",
    "elif vek <= 26:\n",
    "    cena = plna_cena * (1 - 0.65)\n",
    "elif vek <= 64:\n",
    "    cena = plna_cena\n",
    "else:\n",
    "    cena = plna_cena * 0.5\n",
    "\n",
    "print(f'Cena vstupenky je {round(cena, 2)}.')"
   ],
   "metadata": {
    "collapsed": false,
    "pycharm": {
     "name": "#%%\n"
    }
   }
  },
  {
   "cell_type": "markdown",
   "source": [
    "# Bonusy"
   ],
   "metadata": {
    "collapsed": false,
    "pycharm": {
     "name": "#%% md\n"
    }
   }
  },
  {
   "cell_type": "markdown",
   "source": [
    "## 3 - Registrace ○○○♦♦\n",
    "\n",
    "Založte si program `registrace.py`. Program nechá uživatele, aby si zvolil uživatelské jméno a heslo. Heslo jej nechejte zadat dvakrát a ověřte, že jej uživatel zadal dvakrát stejně. V opačném případě vypište varování, že hesla nejsou\n",
    "stejná. Při prvním zadávání ověřte, že heslo je bezpečné, což v tomto případě znamená, že je delší než 8 znaků."
   ],
   "metadata": {
    "collapsed": false,
    "pycharm": {
     "name": "#%% md\n"
    }
   }
  },
  {
   "cell_type": "markdown",
   "source": [
    "### Řešení"
   ],
   "metadata": {
    "collapsed": false,
    "pycharm": {
     "name": "#%% md\n"
    }
   }
  },
  {
   "cell_type": "code",
   "execution_count": null,
   "outputs": [],
   "source": [
    "uzivatel = input('Zadej uživatelské jméno: ')\n",
    "\n",
    "heslo = input('Zadej heslo: ')\n",
    "if len(heslo) <= 8:\n",
    "    print('Heslo je příliš krátké')\n",
    "    exit()\n",
    "\n",
    "heslo_2 = input('Zadej heslo znovu: ')\n",
    "if heslo != heslo_2:\n",
    "    print('Hesla se neshodují.')"
   ],
   "metadata": {
    "collapsed": false,
    "pycharm": {
     "name": "#%%\n"
    }
   }
  },
  {
   "cell_type": "markdown",
   "source": [
    "## 4 - Ruleta ○♦♦♦♦\n",
    "\n",
    "Na obrázku vidíte rozložení čísel na klasické Francouzské ruletě. Ruleta obsahuje čísla `0 - 36`. Každé číslo s výjimkou\n",
    "nuly je buď sudé nebo liché a zároveň červené nebo černé. Pro čísla 1 až 10 a 19 až 28 platí, že lichá čísla jsou\n",
    "červená a sudá jsou černá. Pro zbytek platí obrácené pravidlo, tedy lichá jsou černá a sudá červená. Nula není ani lichá\n",
    "ani sudá, ani černá ani červená.\n",
    "\n",
    "![Ruleta](https://kodim.cz/czechitas/uvod-do-progr/prvni-krucky/podminky/excs/ruleta/assets/roulette.png)\n",
    "\n",
    "Napište program, kterému uživatel zadá číslo a program odpoví jestli jde o číslo sudé nebo liché, černé nebo červené,\n",
    "nebo je to nula."
   ],
   "metadata": {
    "collapsed": false,
    "pycharm": {
     "name": "#%% md\n"
    }
   }
  },
  {
   "cell_type": "markdown",
   "source": [
    "### Řešení"
   ],
   "metadata": {
    "collapsed": false,
    "pycharm": {
     "name": "#%% md\n"
    }
   }
  },
  {
   "cell_type": "code",
   "execution_count": null,
   "outputs": [],
   "source": [
    "cislo = int(input('Zadej čislo: '))\n",
    "\n",
    "if cislo == 0:\n",
    "    print('Číslo je 0.')\n",
    "    exit()\n",
    "\n",
    "je_sude = cislo % 2 == 0\n",
    "sude_liche_text = 'sudé' if je_sude else 'liché'\n",
    "\n",
    "if 1 <= cislo <= 10 or 19 <= cislo <= 28:\n",
    "    barva = 'černé' if je_sude else 'červené'\n",
    "else:\n",
    "    barva = 'červené' if je_sude else 'černé'\n",
    "\n",
    "print(f'Číslo je {sude_liche_text} a {barva}.')"
   ],
   "metadata": {
    "collapsed": false,
    "pycharm": {
     "name": "#%%\n"
    }
   }
  },
  {
   "cell_type": "markdown",
   "source": [
    "## 5 - Přestupný rok ○○♦♦♦\n",
    "\n",
    "Napište program, který po zadání kalendářního roku vypíše, zda jde o rok přestupný, či nikoliv. Letopočet je přestupný, pokud je dělitelný čtyřmi. Roky, které jsou dělitelné 100 jsou ovšem přestupné pouze tehdy, jsou-li zároveň dělitelné 400."
   ],
   "metadata": {
    "collapsed": false,
    "pycharm": {
     "name": "#%% md\n"
    }
   }
  },
  {
   "cell_type": "markdown",
   "source": [
    "### Řešení"
   ],
   "metadata": {
    "collapsed": false,
    "pycharm": {
     "name": "#%% md\n"
    }
   }
  },
  {
   "cell_type": "code",
   "execution_count": null,
   "outputs": [],
   "source": [
    "rok = int(input(\"Zadej rok: \"))\n",
    "\n",
    "delitelne_4 = rok % 4 == 0\n",
    "delitelne_100 = rok % 100 == 0\n",
    "delitelne_400 = rok % 400 == 0\n",
    "\n",
    "if delitelne_400 or (delitelne_4 and not delitelne_100):\n",
    "    print(\"Rok je přestupný.\")\n",
    "else:\n",
    "    print(\"Rok není přestupný\")"
   ],
   "metadata": {
    "collapsed": false,
    "pycharm": {
     "name": "#%%\n"
    }
   }
  }
 ],
 "metadata": {
  "kernelspec": {
   "display_name": "Python 3",
   "language": "python",
   "name": "python3"
  },
  "language_info": {
   "codemirror_mode": {
    "name": "ipython",
    "version": 2
   },
   "file_extension": ".py",
   "mimetype": "text/x-python",
   "name": "python",
   "nbconvert_exporter": "python",
   "pygments_lexer": "ipython2",
   "version": "2.7.6"
  }
 },
 "nbformat": 4,
 "nbformat_minor": 0
}