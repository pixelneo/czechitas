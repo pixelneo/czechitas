{
 "cells": [
  {
   "cell_type": "markdown",
   "source": [
    "*tyto příklady je lepší si zkoušet přímo v Python konzoli `>>> `*\n",
    "*oficiálně ještě neznáme funkci `print()`*\n",
    "*k zobrazení výsledku pak stačí napsat název proměnné*"
   ],
   "metadata": {
    "collapsed": false,
    "pycharm": {
     "name": "#%% md\n"
    }
   }
  },
  {
   "cell_type": "markdown",
   "source": [
    "## 1 - Hrátky s proměnnými ○○○○♦\n",
    "\n",
    "Dbejte na to, aby proměnné měly vhodný název dobře naznačující, co je v které z nich uloženo.\n",
    "\n",
    "- Uložte do proměnné `herci` celočíselnou hodnotu udávající počet herců, kteří hrají v divadle. Do proměnné `platy`\n",
    "  spočítejte celkové náklady divadla na platy herců, víme-li, že průměrný plat herce je 22 392 Kč.\n",
    "- Do jiné proměnné s vhodným názvem uložte nějaké desetinné číslo, například velikost slevy na studentské vstupné. Do\n",
    "  další proměnné uložte nějaký řetězec, například název nějakého představení.\n",
    "- Zatímco jste dělali předchozí cvičení, do divadla přibyli dva noví herci. Aktualizujte tedy obsah proměnné herci a\n",
    "  zařiďte, aby v proměnné platy byla správná hodnota nákladů. Zamyslete se nad tím co se stalo s hodnotou, která byla v\n",
    "  proměnné herci uložena před tím."
   ],
   "metadata": {
    "collapsed": false,
    "pycharm": {
     "name": "#%% md\n"
    }
   }
  },
  {
   "cell_type": "markdown",
   "source": [
    "### Řešení"
   ],
   "metadata": {
    "collapsed": false,
    "pycharm": {
     "name": "#%% md\n"
    }
   }
  },
  {
   "cell_type": "code",
   "execution_count": 5,
   "outputs": [],
   "source": [
    "herci = 15\n",
    "platy = herci * 22_392"
   ],
   "metadata": {
    "collapsed": false,
    "pycharm": {
     "name": "#%%\n"
    }
   }
  },
  {
   "cell_type": "code",
   "execution_count": 6,
   "outputs": [],
   "source": [
    "sleva = 0.65\n",
    "predstaveni = \"Romeo a Julie\""
   ],
   "metadata": {
    "collapsed": false,
    "pycharm": {
     "name": "#%%\n"
    }
   }
  },
  {
   "cell_type": "code",
   "execution_count": 7,
   "outputs": [],
   "source": [
    "herci += 2\n",
    "platy = herci * 22_392"
   ],
   "metadata": {
    "collapsed": false,
    "pycharm": {
     "name": "#%%\n"
    }
   }
  },
  {
   "cell_type": "markdown",
   "source": [
    "*Poznámka: symbol `_` v čísle nemá žádný vedlejší efekt a můžete ho tak použít jako oddělovač tisíců pro lepší čitelnost\n",
    "delších čísel.*"
   ],
   "metadata": {
    "collapsed": false,
    "pycharm": {
     "name": "#%% md\n"
    }
   }
  },
  {
   "cell_type": "markdown",
   "source": [
    "## 2 - Celočíselné dělení a dělení se zbytkem ○○○○♦\n",
    "\n",
    "Zaexperimentujte s operátory celočíselného dělení a dělení se zbytkem.\n",
    "\n",
    "- Kolikrát se vejde číslo 72 do 1024? Kolik je zbytek po dělení čísla 1024 číslem 72?\n",
    "- Divadlo má délky představení vždy uloženo v minutách. Například extrémně nudné a zničující představení *Smrt v přímém\n",
    "  přenosu* trvá 265 minut. Uložte tuto hodnotu do proměnné `delka`.\n",
    "- Použijte proměnnou `delka` a spočítejte trvání představení vyjádřeno v hodinách a minutách. Do proměnné `hodin` uložte\n",
    "  počet celých hodin a do proměnné `minut` uložte zbylé minuty."
   ],
   "metadata": {
    "collapsed": false,
    "pycharm": {
     "name": "#%% md\n"
    }
   }
  },
  {
   "cell_type": "markdown",
   "source": [
    "### Řešení"
   ],
   "metadata": {
    "collapsed": false,
    "pycharm": {
     "name": "#%% md\n"
    }
   }
  },
  {
   "cell_type": "code",
   "execution_count": 8,
   "outputs": [],
   "source": [
    "podil = 1024 // 72\n",
    "zbytek = 1024 % 72\n",
    "\n",
    "delka = 265\n",
    "\n",
    "hodin = delka // 60\n",
    "minut = delka % 60"
   ],
   "metadata": {
    "collapsed": false,
    "pycharm": {
     "name": "#%%\n"
    }
   }
  },
  {
   "cell_type": "markdown",
   "source": [
    "# Bonusy"
   ],
   "metadata": {
    "collapsed": false,
    "pycharm": {
     "name": "#%% md\n"
    }
   }
  },
  {
   "cell_type": "markdown",
   "source": [
    "## 3 - Sedačky v sále ○○○♦♦\n",
    "\n",
    "Hlavní sál divadla má k dispozici 350 sedaček. Lze je poskládat do řad po 32 sedadlech tak, aby všechny řady byly úplné?\n",
    "Pokud ne, kolik sedaček musíme přikoupit, aby to šlo? Kolik nám takto vznikne celkem řad?"
   ],
   "metadata": {
    "collapsed": false,
    "pycharm": {
     "name": "#%% md\n"
    }
   }
  },
  {
   "cell_type": "markdown",
   "source": [
    "### Řešení"
   ],
   "metadata": {
    "collapsed": false,
    "pycharm": {
     "name": "#%% md\n"
    }
   }
  },
  {
   "cell_type": "code",
   "execution_count": 9,
   "outputs": [],
   "source": [
    "zbyva = 350 % 32\n",
    "dokoupit = 32 - zbyva\n",
    "celkem_rad = (350 + dokoupit) / 32"
   ],
   "metadata": {
    "collapsed": false,
    "pycharm": {
     "name": "#%%\n"
    }
   }
  }
 ],
 "metadata": {
  "kernelspec": {
   "display_name": "Python 3",
   "language": "python",
   "name": "python3"
  },
  "language_info": {
   "codemirror_mode": {
    "name": "ipython",
    "version": 2
   },
   "file_extension": ".py",
   "mimetype": "text/x-python",
   "name": "python",
   "nbconvert_exporter": "python",
   "pygments_lexer": "ipython2",
   "version": "2.7.6"
  }
 },
 "nbformat": 4,
 "nbformat_minor": 0
}