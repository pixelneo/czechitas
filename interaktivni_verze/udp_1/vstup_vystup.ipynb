{
 "cells": [
  {
   "cell_type": "markdown",
   "source": [
    "## 1 - Jednoduchý výstup ○○○♦♦\n",
    "\n",
    "Náš vůbec první program nebude dělat nic víc, než vypisovat text na obrazovku.\n",
    "\n",
    "- Založte si program `vstup_vystup.py`. V tomto programu pomocí funkce `print()` vypište na obrazovku *Divadlo Pěst na\n",
    "  oko*. Program spusťte na konzoli a vyzkoušejte, že dělá co má.\n",
    "- Upravte tento program tak, že do proměnné `nazev` uložíte název nějakého divadelního představení a do proměnné `cas`\n",
    "  uložte čas konání tohoto představení. Nyní pomocí funkce `print()` nechte program vypsat na obrazovku na jeden řádek\n",
    "  název představení a čas konání, např. *Zkrocení zlé ženy - 19:30*.\n",
    "- Upravte dále program tak, že do proměnné `hodina` uložíte hodinu konání představení (jako celé číslo) a do proměnné\n",
    "  `minuta` minutu konání, také jako celé číslo. Zařiďte, aby výstup programu vypadal takto: *Zkrocení zlé ženy - 19:30*.\n",
    "  Pozor na to, že hodina a minuta je hodnota typu číslo, takže ji budete při výpisu muset převést na řetězec pomocí\n",
    "  funkce `str()`[^1].\n",
    "\n",
    "[^1]: V zadání na stránkách bylo opomenuto, že `minuta` může obsahovat i jednomístnou čísloci např.: 5. V řešení níže je\n",
    "na to pamatováno pomocí [formátování](https://docs.python.org/3/library/string.html#format-specification-mini-language)\n",
    "v `f`stringu."
   ],
   "metadata": {
    "collapsed": false,
    "pycharm": {
     "name": "#%% md\n"
    }
   }
  },
  {
   "cell_type": "markdown",
   "source": [
    "### Řešení"
   ],
   "metadata": {
    "collapsed": false,
    "pycharm": {
     "name": "#%% md\n"
    }
   }
  },
  {
   "cell_type": "code",
   "execution_count": 1,
   "metadata": {
    "collapsed": true,
    "pycharm": {
     "name": "#%%\n"
    }
   },
   "outputs": [
    {
     "name": "stdout",
     "output_type": "stream",
     "text": [
      "Divadlo Pěst na oko\n"
     ]
    }
   ],
   "source": [
    "print('Divadlo Pěst na oko')"
   ]
  },
  {
   "cell_type": "code",
   "execution_count": 2,
   "outputs": [
    {
     "name": "stdout",
     "output_type": "stream",
     "text": [
      "Zkrocení zlé ženy - 19:30\n"
     ]
    }
   ],
   "source": [
    "nazev = 'Zkrocení zlé ženy'\n",
    "cas = '19:30'\n",
    "print(f'{nazev} - {cas}')"
   ],
   "metadata": {
    "collapsed": false,
    "pycharm": {
     "name": "#%%\n"
    }
   }
  },
  {
   "cell_type": "code",
   "execution_count": 3,
   "outputs": [
    {
     "name": "stdout",
     "output_type": "stream",
     "text": [
      "Zkrocení zlé ženy - 19:30\n"
     ]
    }
   ],
   "source": [
    "hodina = 19\n",
    "minuta = 30\n",
    "print(f'{nazev} - {hodina}:{minuta:02}')"
   ],
   "metadata": {
    "collapsed": false,
    "pycharm": {
     "name": "#%%\n"
    }
   }
  },
  {
   "cell_type": "markdown",
   "source": [
    "## 2 - Jednoduchý vstup ○○○♦♦\n",
    "\n",
    "Teď už budeme chtít, aby náš program dokázal získat vstup od uživatele.\n",
    "\n",
    "- Napište program `jmeno.py`, který získá jméno a příjmení od uživatele voláním funkce `input()`. Vypište je na\n",
    "  obrazovku podobně jako v předchozím cvičení.\n",
    "- Nechte uživatele zadat také věk. Pozor na to, že funkce `input()` vždy vrací řetězec, ale my chceme v proměnné vek mít\n",
    "  číslo. Použijte tedy funkci `int()`, abyste převedli uživatelem zadaný řetězec na číslo. Opět vypište na obrazovku\n",
    "  jméno, příjmení a věk tak jako v předchozí verzi."
   ],
   "metadata": {
    "collapsed": false,
    "pycharm": {
     "name": "#%% md\n"
    }
   }
  },
  {
   "cell_type": "markdown",
   "source": [
    "### Řešení"
   ],
   "metadata": {
    "collapsed": false,
    "pycharm": {
     "name": "#%% md\n"
    }
   }
  },
  {
   "cell_type": "code",
   "execution_count": 4,
   "outputs": [
    {
     "name": "stdout",
     "output_type": "stream",
     "text": [
      "asdfasfd fhdfhgfgh\n"
     ]
    }
   ],
   "source": [
    "jmeno = input('Zadej jméno: ')\n",
    "prijmeni = input('Zadej příjmení: ')\n",
    "print(f'{jmeno} {prijmeni}')"
   ],
   "metadata": {
    "collapsed": false,
    "pycharm": {
     "name": "#%%\n"
    }
   }
  },
  {
   "cell_type": "code",
   "execution_count": 5,
   "outputs": [
    {
     "name": "stdout",
     "output_type": "stream",
     "text": [
      "asdfasfd fhdfhgfgh, věk: 20\n"
     ]
    }
   ],
   "source": [
    "vek = input('Zadej věk: ')\n",
    "vek = int(vek)\n",
    "print(f'{jmeno} {prijmeni}, věk: {vek}')"
   ],
   "metadata": {
    "collapsed": false,
    "pycharm": {
     "name": "#%%\n"
    }
   }
  },
  {
   "cell_type": "markdown",
   "source": [
    "## 3 - Zakázka pro divadlo ○○○♦♦\n",
    "\n",
    "Divadlo požaduje systém pro online rezervaci vstupenek na pořádaná představení. Váš první úkol na této zakázce je\n",
    "vytvořit registraci pro nové uživatele tohoto systému.\n",
    "\n",
    "- Založte si program `vstupenky_01.py`. Bude to první verze našeho programu pro nákup vstupenek.\n",
    "- Napište program tak, aby nejprve vypsal na obrazovku *Divadlo Pěst na oko* na první řádek, na druhý řádek chceme\n",
    "  vypsat *Vítejte v online rezervaci vstupenek* a na třetí řádek *Pro vstup do systému je potřeba registrace*.\n",
    "- Na dalším řádku požádejte uživatele o jeho uživatelské jméno a poté o jeho věk. Ten si uložte to nějaké proměnné jako\n",
    "  číslo."
   ],
   "metadata": {
    "collapsed": false,
    "pycharm": {
     "name": "#%% md\n"
    }
   }
  },
  {
   "cell_type": "markdown",
   "source": [
    "### Řešení"
   ],
   "metadata": {
    "collapsed": false,
    "pycharm": {
     "name": "#%% md\n"
    }
   }
  },
  {
   "cell_type": "code",
   "execution_count": 6,
   "outputs": [
    {
     "name": "stdout",
     "output_type": "stream",
     "text": [
      "Divadlo Pěst na oko\n",
      "Vítejte v online rezervaci vstupenek\n",
      "Pro vstup do systému je potřeba registrace\n"
     ]
    }
   ],
   "source": [
    "print('Divadlo Pěst na oko')\n",
    "print('Vítejte v online rezervaci vstupenek')\n",
    "print('Pro vstup do systému je potřeba registrace')\n",
    "uzivatel = input('Zadej uživatelské jméno: ')\n",
    "vek = int(input('Zadej věk: '))"
   ],
   "metadata": {
    "collapsed": false,
    "pycharm": {
     "name": "#%%\n"
    }
   }
  },
  {
   "cell_type": "markdown",
   "source": [
    "# Bonusy"
   ],
   "metadata": {
    "collapsed": false,
    "pycharm": {
     "name": "#%% md\n"
    }
   }
  },
  {
   "cell_type": "markdown",
   "source": [
    "## 4 - Házení kostkami ○♦♦♦♦\n",
    "\n",
    "Napište program `kostky.py`, který bude simulovat hod dvěma klasickými šestistěnnými kostkami. Jeho výstupu bude součet bodů na těchto dvou kostkách.\n",
    "\n",
    "Nápověda: Generování náhodných čísel dělá funkce `random.randint()`. Pokud chcete ve vašem programu použít modul `random`, musíte na jeho úplném začátku napsat příkaz `import random`"
   ],
   "metadata": {
    "collapsed": false,
    "pycharm": {
     "name": "#%% md\n"
    }
   }
  },
  {
   "cell_type": "markdown",
   "source": [
    "### Řešení"
   ],
   "metadata": {
    "collapsed": false,
    "pycharm": {
     "name": "#%% md\n"
    }
   }
  },
  {
   "cell_type": "code",
   "execution_count": 7,
   "outputs": [
    {
     "name": "stdout",
     "output_type": "stream",
     "text": [
      "7\n"
     ]
    }
   ],
   "source": [
    "import random\n",
    "\n",
    "cislo = random.randint(1, 6) + random.randint(1, 6)\n",
    "print(cislo)"
   ],
   "metadata": {
    "collapsed": false,
    "pycharm": {
     "name": "#%%\n"
    }
   }
  },
  {
   "cell_type": "markdown",
   "source": [
    "## 5 - Generátor čísel ○○○♦♦\n",
    "\n",
    "Napište program `generator.py`, který si od uživatele vyžádá dvě celá čísla - dolní mez a horní mez - a vypíše na výstup náhodné číslo v zadaných mezích."
   ],
   "metadata": {
    "collapsed": false,
    "pycharm": {
     "name": "#%% md\n"
    }
   }
  },
  {
   "cell_type": "markdown",
   "source": [
    "### Řešení"
   ],
   "metadata": {
    "collapsed": false,
    "pycharm": {
     "name": "#%% md\n"
    }
   }
  },
  {
   "cell_type": "code",
   "execution_count": 8,
   "outputs": [
    {
     "name": "stdout",
     "output_type": "stream",
     "text": [
      "5\n"
     ]
    }
   ],
   "source": [
    "import random\n",
    "\n",
    "dolni_mez = int(input('Zadej dolní mez: '))\n",
    "horni_mez = int(input('Zadej horní mez: '))\n",
    "cislo = random.randint(dolni_mez, horni_mez)\n",
    "print(cislo)"
   ],
   "metadata": {
    "collapsed": false,
    "pycharm": {
     "name": "#%%\n"
    }
   }
  }
 ],
 "metadata": {
  "kernelspec": {
   "display_name": "Python 3",
   "language": "python",
   "name": "python3"
  },
  "language_info": {
   "codemirror_mode": {
    "name": "ipython",
    "version": 2
   },
   "file_extension": ".py",
   "mimetype": "text/x-python",
   "name": "python",
   "nbconvert_exporter": "python",
   "pygments_lexer": "ipython2",
   "version": "2.7.6"
  }
 },
 "nbformat": 4,
 "nbformat_minor": 0
}